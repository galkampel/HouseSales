{
 "cells": [
  {
   "cell_type": "raw",
   "id": "028f3fea",
   "metadata": {},
   "source": [
    "from typing import Iterable, Union, List, Tuple, Dict, Optional\n",
    "import pandas as pd\n",
    "import numpy as np\n",
    "from datetime import datetime\n",
    "from sklearn.preprocessing import StandardScaler\n",
    "import seaborn as sns\n",
    "import matplotlib.pyplot as plt\n",
    "%matplotlib inline"
   ]
  },
  {
   "cell_type": "markdown",
   "id": "d9ba70c7",
   "metadata": {},
   "source": [
    "# TODO:\n",
    "* Categorical/Ordinal Features (binning):\n",
    "    * one-hot encoding\n",
    "    * grouping\n",
    "    * entropy/MI\n",
    "    * target-based categorical encoder"
   ]
  },
  {
   "cell_type": "markdown",
   "id": "a069a3b5",
   "metadata": {},
   "source": [
    "# General Statistics"
   ]
  },
  {
   "cell_type": "code",
   "execution_count": 2,
   "id": "50f7f57f",
   "metadata": {
    "scrolled": true
   },
   "outputs": [
    {
     "name": "stdout",
     "output_type": "stream",
     "text": [
      "(21613, 21)\n"
     ]
    },
    {
     "data": {
      "text/html": [
       "<div>\n",
       "<style scoped>\n",
       "    .dataframe tbody tr th:only-of-type {\n",
       "        vertical-align: middle;\n",
       "    }\n",
       "\n",
       "    .dataframe tbody tr th {\n",
       "        vertical-align: top;\n",
       "    }\n",
       "\n",
       "    .dataframe thead th {\n",
       "        text-align: right;\n",
       "    }\n",
       "</style>\n",
       "<table border=\"1\" class=\"dataframe\">\n",
       "  <thead>\n",
       "    <tr style=\"text-align: right;\">\n",
       "      <th></th>\n",
       "      <th>id</th>\n",
       "      <th>date</th>\n",
       "      <th>price</th>\n",
       "      <th>bedrooms</th>\n",
       "      <th>bathrooms</th>\n",
       "      <th>sqft_living</th>\n",
       "      <th>sqft_lot</th>\n",
       "      <th>floors</th>\n",
       "      <th>waterfront</th>\n",
       "      <th>view</th>\n",
       "      <th>...</th>\n",
       "      <th>grade</th>\n",
       "      <th>sqft_above</th>\n",
       "      <th>sqft_basement</th>\n",
       "      <th>yr_built</th>\n",
       "      <th>yr_renovated</th>\n",
       "      <th>zipcode</th>\n",
       "      <th>lat</th>\n",
       "      <th>long</th>\n",
       "      <th>sqft_living15</th>\n",
       "      <th>sqft_lot15</th>\n",
       "    </tr>\n",
       "  </thead>\n",
       "  <tbody>\n",
       "    <tr>\n",
       "      <th>0</th>\n",
       "      <td>7129300520</td>\n",
       "      <td>2014-10-13</td>\n",
       "      <td>221900.0</td>\n",
       "      <td>3</td>\n",
       "      <td>1.00</td>\n",
       "      <td>1180</td>\n",
       "      <td>5650</td>\n",
       "      <td>1.0</td>\n",
       "      <td>0</td>\n",
       "      <td>0</td>\n",
       "      <td>...</td>\n",
       "      <td>7</td>\n",
       "      <td>1180</td>\n",
       "      <td>0</td>\n",
       "      <td>1955</td>\n",
       "      <td>0</td>\n",
       "      <td>98178</td>\n",
       "      <td>47.5112</td>\n",
       "      <td>-122.257</td>\n",
       "      <td>1340</td>\n",
       "      <td>5650</td>\n",
       "    </tr>\n",
       "    <tr>\n",
       "      <th>1</th>\n",
       "      <td>6414100192</td>\n",
       "      <td>2014-12-09</td>\n",
       "      <td>538000.0</td>\n",
       "      <td>3</td>\n",
       "      <td>2.25</td>\n",
       "      <td>2570</td>\n",
       "      <td>7242</td>\n",
       "      <td>2.0</td>\n",
       "      <td>0</td>\n",
       "      <td>0</td>\n",
       "      <td>...</td>\n",
       "      <td>7</td>\n",
       "      <td>2170</td>\n",
       "      <td>400</td>\n",
       "      <td>1951</td>\n",
       "      <td>1991</td>\n",
       "      <td>98125</td>\n",
       "      <td>47.7210</td>\n",
       "      <td>-122.319</td>\n",
       "      <td>1690</td>\n",
       "      <td>7639</td>\n",
       "    </tr>\n",
       "    <tr>\n",
       "      <th>2</th>\n",
       "      <td>5631500400</td>\n",
       "      <td>2015-02-25</td>\n",
       "      <td>180000.0</td>\n",
       "      <td>2</td>\n",
       "      <td>1.00</td>\n",
       "      <td>770</td>\n",
       "      <td>10000</td>\n",
       "      <td>1.0</td>\n",
       "      <td>0</td>\n",
       "      <td>0</td>\n",
       "      <td>...</td>\n",
       "      <td>6</td>\n",
       "      <td>770</td>\n",
       "      <td>0</td>\n",
       "      <td>1933</td>\n",
       "      <td>0</td>\n",
       "      <td>98028</td>\n",
       "      <td>47.7379</td>\n",
       "      <td>-122.233</td>\n",
       "      <td>2720</td>\n",
       "      <td>8062</td>\n",
       "    </tr>\n",
       "    <tr>\n",
       "      <th>3</th>\n",
       "      <td>2487200875</td>\n",
       "      <td>2014-12-09</td>\n",
       "      <td>604000.0</td>\n",
       "      <td>4</td>\n",
       "      <td>3.00</td>\n",
       "      <td>1960</td>\n",
       "      <td>5000</td>\n",
       "      <td>1.0</td>\n",
       "      <td>0</td>\n",
       "      <td>0</td>\n",
       "      <td>...</td>\n",
       "      <td>7</td>\n",
       "      <td>1050</td>\n",
       "      <td>910</td>\n",
       "      <td>1965</td>\n",
       "      <td>0</td>\n",
       "      <td>98136</td>\n",
       "      <td>47.5208</td>\n",
       "      <td>-122.393</td>\n",
       "      <td>1360</td>\n",
       "      <td>5000</td>\n",
       "    </tr>\n",
       "    <tr>\n",
       "      <th>4</th>\n",
       "      <td>1954400510</td>\n",
       "      <td>2015-02-18</td>\n",
       "      <td>510000.0</td>\n",
       "      <td>3</td>\n",
       "      <td>2.00</td>\n",
       "      <td>1680</td>\n",
       "      <td>8080</td>\n",
       "      <td>1.0</td>\n",
       "      <td>0</td>\n",
       "      <td>0</td>\n",
       "      <td>...</td>\n",
       "      <td>8</td>\n",
       "      <td>1680</td>\n",
       "      <td>0</td>\n",
       "      <td>1987</td>\n",
       "      <td>0</td>\n",
       "      <td>98074</td>\n",
       "      <td>47.6168</td>\n",
       "      <td>-122.045</td>\n",
       "      <td>1800</td>\n",
       "      <td>7503</td>\n",
       "    </tr>\n",
       "  </tbody>\n",
       "</table>\n",
       "<p>5 rows × 21 columns</p>\n",
       "</div>"
      ],
      "text/plain": [
       "           id       date     price  bedrooms  bathrooms  sqft_living  \\\n",
       "0  7129300520 2014-10-13  221900.0         3       1.00         1180   \n",
       "1  6414100192 2014-12-09  538000.0         3       2.25         2570   \n",
       "2  5631500400 2015-02-25  180000.0         2       1.00          770   \n",
       "3  2487200875 2014-12-09  604000.0         4       3.00         1960   \n",
       "4  1954400510 2015-02-18  510000.0         3       2.00         1680   \n",
       "\n",
       "   sqft_lot  floors  waterfront  view  ...  grade  sqft_above  sqft_basement  \\\n",
       "0      5650     1.0           0     0  ...      7        1180              0   \n",
       "1      7242     2.0           0     0  ...      7        2170            400   \n",
       "2     10000     1.0           0     0  ...      6         770              0   \n",
       "3      5000     1.0           0     0  ...      7        1050            910   \n",
       "4      8080     1.0           0     0  ...      8        1680              0   \n",
       "\n",
       "   yr_built  yr_renovated  zipcode      lat     long  sqft_living15  \\\n",
       "0      1955             0    98178  47.5112 -122.257           1340   \n",
       "1      1951          1991    98125  47.7210 -122.319           1690   \n",
       "2      1933             0    98028  47.7379 -122.233           2720   \n",
       "3      1965             0    98136  47.5208 -122.393           1360   \n",
       "4      1987             0    98074  47.6168 -122.045           1800   \n",
       "\n",
       "   sqft_lot15  \n",
       "0        5650  \n",
       "1        7639  \n",
       "2        8062  \n",
       "3        5000  \n",
       "4        7503  \n",
       "\n",
       "[5 rows x 21 columns]"
      ]
     },
     "execution_count": 2,
     "metadata": {},
     "output_type": "execute_result"
    }
   ],
   "source": [
    "df = pd.read_csv('../data/kc_house_data.csv', parse_dates=[1])  # parse date column\n",
    "print(df.shape)\n",
    "df.head()"
   ]
  },
  {
   "cell_type": "code",
   "execution_count": 3,
   "id": "ea94260b",
   "metadata": {
    "scrolled": true
   },
   "outputs": [
    {
     "name": "stdout",
     "output_type": "stream",
     "text": [
      "<class 'pandas.core.frame.DataFrame'>\n",
      "RangeIndex: 21613 entries, 0 to 21612\n",
      "Data columns (total 21 columns):\n",
      " #   Column         Non-Null Count  Dtype         \n",
      "---  ------         --------------  -----         \n",
      " 0   id             21613 non-null  int64         \n",
      " 1   date           21613 non-null  datetime64[ns]\n",
      " 2   price          21613 non-null  float64       \n",
      " 3   bedrooms       21613 non-null  int64         \n",
      " 4   bathrooms      21613 non-null  float64       \n",
      " 5   sqft_living    21613 non-null  int64         \n",
      " 6   sqft_lot       21613 non-null  int64         \n",
      " 7   floors         21613 non-null  float64       \n",
      " 8   waterfront     21613 non-null  int64         \n",
      " 9   view           21613 non-null  int64         \n",
      " 10  condition      21613 non-null  int64         \n",
      " 11  grade          21613 non-null  int64         \n",
      " 12  sqft_above     21613 non-null  int64         \n",
      " 13  sqft_basement  21613 non-null  int64         \n",
      " 14  yr_built       21613 non-null  int64         \n",
      " 15  yr_renovated   21613 non-null  int64         \n",
      " 16  zipcode        21613 non-null  int64         \n",
      " 17  lat            21613 non-null  float64       \n",
      " 18  long           21613 non-null  float64       \n",
      " 19  sqft_living15  21613 non-null  int64         \n",
      " 20  sqft_lot15     21613 non-null  int64         \n",
      "dtypes: datetime64[ns](1), float64(5), int64(15)\n",
      "memory usage: 3.5 MB\n"
     ]
    }
   ],
   "source": [
    "df.info()"
   ]
  },
  {
   "cell_type": "code",
   "execution_count": 4,
   "id": "8e0ae475",
   "metadata": {},
   "outputs": [
    {
     "data": {
      "text/html": [
       "<div>\n",
       "<style scoped>\n",
       "    .dataframe tbody tr th:only-of-type {\n",
       "        vertical-align: middle;\n",
       "    }\n",
       "\n",
       "    .dataframe tbody tr th {\n",
       "        vertical-align: top;\n",
       "    }\n",
       "\n",
       "    .dataframe thead th {\n",
       "        text-align: right;\n",
       "    }\n",
       "</style>\n",
       "<table border=\"1\" class=\"dataframe\">\n",
       "  <thead>\n",
       "    <tr style=\"text-align: right;\">\n",
       "      <th></th>\n",
       "      <th>id</th>\n",
       "      <th>price</th>\n",
       "      <th>bedrooms</th>\n",
       "      <th>bathrooms</th>\n",
       "      <th>sqft_living</th>\n",
       "      <th>sqft_lot</th>\n",
       "      <th>floors</th>\n",
       "      <th>waterfront</th>\n",
       "      <th>view</th>\n",
       "      <th>condition</th>\n",
       "      <th>grade</th>\n",
       "      <th>sqft_above</th>\n",
       "      <th>sqft_basement</th>\n",
       "      <th>yr_built</th>\n",
       "      <th>yr_renovated</th>\n",
       "      <th>zipcode</th>\n",
       "      <th>lat</th>\n",
       "      <th>long</th>\n",
       "      <th>sqft_living15</th>\n",
       "      <th>sqft_lot15</th>\n",
       "    </tr>\n",
       "  </thead>\n",
       "  <tbody>\n",
       "    <tr>\n",
       "      <th>count</th>\n",
       "      <td>2.161300e+04</td>\n",
       "      <td>2.161300e+04</td>\n",
       "      <td>21613.000000</td>\n",
       "      <td>21613.000000</td>\n",
       "      <td>21613.000000</td>\n",
       "      <td>2.161300e+04</td>\n",
       "      <td>21613.000000</td>\n",
       "      <td>21613.000000</td>\n",
       "      <td>21613.000000</td>\n",
       "      <td>21613.000000</td>\n",
       "      <td>21613.000000</td>\n",
       "      <td>21613.000000</td>\n",
       "      <td>21613.000000</td>\n",
       "      <td>21613.000000</td>\n",
       "      <td>21613.000000</td>\n",
       "      <td>21613.000000</td>\n",
       "      <td>21613.000000</td>\n",
       "      <td>21613.000000</td>\n",
       "      <td>21613.000000</td>\n",
       "      <td>21613.000000</td>\n",
       "    </tr>\n",
       "    <tr>\n",
       "      <th>mean</th>\n",
       "      <td>4.580302e+09</td>\n",
       "      <td>5.400881e+05</td>\n",
       "      <td>3.370842</td>\n",
       "      <td>2.114757</td>\n",
       "      <td>2079.899736</td>\n",
       "      <td>1.510697e+04</td>\n",
       "      <td>1.494309</td>\n",
       "      <td>0.007542</td>\n",
       "      <td>0.234303</td>\n",
       "      <td>3.409430</td>\n",
       "      <td>7.656873</td>\n",
       "      <td>1788.390691</td>\n",
       "      <td>291.509045</td>\n",
       "      <td>1971.005136</td>\n",
       "      <td>84.402258</td>\n",
       "      <td>98077.939805</td>\n",
       "      <td>47.560053</td>\n",
       "      <td>-122.213896</td>\n",
       "      <td>1986.552492</td>\n",
       "      <td>12768.455652</td>\n",
       "    </tr>\n",
       "    <tr>\n",
       "      <th>std</th>\n",
       "      <td>2.876566e+09</td>\n",
       "      <td>3.671272e+05</td>\n",
       "      <td>0.930062</td>\n",
       "      <td>0.770163</td>\n",
       "      <td>918.440897</td>\n",
       "      <td>4.142051e+04</td>\n",
       "      <td>0.539989</td>\n",
       "      <td>0.086517</td>\n",
       "      <td>0.766318</td>\n",
       "      <td>0.650743</td>\n",
       "      <td>1.175459</td>\n",
       "      <td>828.090978</td>\n",
       "      <td>442.575043</td>\n",
       "      <td>29.373411</td>\n",
       "      <td>401.679240</td>\n",
       "      <td>53.505026</td>\n",
       "      <td>0.138564</td>\n",
       "      <td>0.140828</td>\n",
       "      <td>685.391304</td>\n",
       "      <td>27304.179631</td>\n",
       "    </tr>\n",
       "    <tr>\n",
       "      <th>min</th>\n",
       "      <td>1.000102e+06</td>\n",
       "      <td>7.500000e+04</td>\n",
       "      <td>0.000000</td>\n",
       "      <td>0.000000</td>\n",
       "      <td>290.000000</td>\n",
       "      <td>5.200000e+02</td>\n",
       "      <td>1.000000</td>\n",
       "      <td>0.000000</td>\n",
       "      <td>0.000000</td>\n",
       "      <td>1.000000</td>\n",
       "      <td>1.000000</td>\n",
       "      <td>290.000000</td>\n",
       "      <td>0.000000</td>\n",
       "      <td>1900.000000</td>\n",
       "      <td>0.000000</td>\n",
       "      <td>98001.000000</td>\n",
       "      <td>47.155900</td>\n",
       "      <td>-122.519000</td>\n",
       "      <td>399.000000</td>\n",
       "      <td>651.000000</td>\n",
       "    </tr>\n",
       "    <tr>\n",
       "      <th>25%</th>\n",
       "      <td>2.123049e+09</td>\n",
       "      <td>3.219500e+05</td>\n",
       "      <td>3.000000</td>\n",
       "      <td>1.750000</td>\n",
       "      <td>1427.000000</td>\n",
       "      <td>5.040000e+03</td>\n",
       "      <td>1.000000</td>\n",
       "      <td>0.000000</td>\n",
       "      <td>0.000000</td>\n",
       "      <td>3.000000</td>\n",
       "      <td>7.000000</td>\n",
       "      <td>1190.000000</td>\n",
       "      <td>0.000000</td>\n",
       "      <td>1951.000000</td>\n",
       "      <td>0.000000</td>\n",
       "      <td>98033.000000</td>\n",
       "      <td>47.471000</td>\n",
       "      <td>-122.328000</td>\n",
       "      <td>1490.000000</td>\n",
       "      <td>5100.000000</td>\n",
       "    </tr>\n",
       "    <tr>\n",
       "      <th>50%</th>\n",
       "      <td>3.904930e+09</td>\n",
       "      <td>4.500000e+05</td>\n",
       "      <td>3.000000</td>\n",
       "      <td>2.250000</td>\n",
       "      <td>1910.000000</td>\n",
       "      <td>7.618000e+03</td>\n",
       "      <td>1.500000</td>\n",
       "      <td>0.000000</td>\n",
       "      <td>0.000000</td>\n",
       "      <td>3.000000</td>\n",
       "      <td>7.000000</td>\n",
       "      <td>1560.000000</td>\n",
       "      <td>0.000000</td>\n",
       "      <td>1975.000000</td>\n",
       "      <td>0.000000</td>\n",
       "      <td>98065.000000</td>\n",
       "      <td>47.571800</td>\n",
       "      <td>-122.230000</td>\n",
       "      <td>1840.000000</td>\n",
       "      <td>7620.000000</td>\n",
       "    </tr>\n",
       "    <tr>\n",
       "      <th>75%</th>\n",
       "      <td>7.308900e+09</td>\n",
       "      <td>6.450000e+05</td>\n",
       "      <td>4.000000</td>\n",
       "      <td>2.500000</td>\n",
       "      <td>2550.000000</td>\n",
       "      <td>1.068800e+04</td>\n",
       "      <td>2.000000</td>\n",
       "      <td>0.000000</td>\n",
       "      <td>0.000000</td>\n",
       "      <td>4.000000</td>\n",
       "      <td>8.000000</td>\n",
       "      <td>2210.000000</td>\n",
       "      <td>560.000000</td>\n",
       "      <td>1997.000000</td>\n",
       "      <td>0.000000</td>\n",
       "      <td>98118.000000</td>\n",
       "      <td>47.678000</td>\n",
       "      <td>-122.125000</td>\n",
       "      <td>2360.000000</td>\n",
       "      <td>10083.000000</td>\n",
       "    </tr>\n",
       "    <tr>\n",
       "      <th>max</th>\n",
       "      <td>9.900000e+09</td>\n",
       "      <td>7.700000e+06</td>\n",
       "      <td>33.000000</td>\n",
       "      <td>8.000000</td>\n",
       "      <td>13540.000000</td>\n",
       "      <td>1.651359e+06</td>\n",
       "      <td>3.500000</td>\n",
       "      <td>1.000000</td>\n",
       "      <td>4.000000</td>\n",
       "      <td>5.000000</td>\n",
       "      <td>13.000000</td>\n",
       "      <td>9410.000000</td>\n",
       "      <td>4820.000000</td>\n",
       "      <td>2015.000000</td>\n",
       "      <td>2015.000000</td>\n",
       "      <td>98199.000000</td>\n",
       "      <td>47.777600</td>\n",
       "      <td>-121.315000</td>\n",
       "      <td>6210.000000</td>\n",
       "      <td>871200.000000</td>\n",
       "    </tr>\n",
       "  </tbody>\n",
       "</table>\n",
       "</div>"
      ],
      "text/plain": [
       "                 id         price      bedrooms     bathrooms   sqft_living  \\\n",
       "count  2.161300e+04  2.161300e+04  21613.000000  21613.000000  21613.000000   \n",
       "mean   4.580302e+09  5.400881e+05      3.370842      2.114757   2079.899736   \n",
       "std    2.876566e+09  3.671272e+05      0.930062      0.770163    918.440897   \n",
       "min    1.000102e+06  7.500000e+04      0.000000      0.000000    290.000000   \n",
       "25%    2.123049e+09  3.219500e+05      3.000000      1.750000   1427.000000   \n",
       "50%    3.904930e+09  4.500000e+05      3.000000      2.250000   1910.000000   \n",
       "75%    7.308900e+09  6.450000e+05      4.000000      2.500000   2550.000000   \n",
       "max    9.900000e+09  7.700000e+06     33.000000      8.000000  13540.000000   \n",
       "\n",
       "           sqft_lot        floors    waterfront          view     condition  \\\n",
       "count  2.161300e+04  21613.000000  21613.000000  21613.000000  21613.000000   \n",
       "mean   1.510697e+04      1.494309      0.007542      0.234303      3.409430   \n",
       "std    4.142051e+04      0.539989      0.086517      0.766318      0.650743   \n",
       "min    5.200000e+02      1.000000      0.000000      0.000000      1.000000   \n",
       "25%    5.040000e+03      1.000000      0.000000      0.000000      3.000000   \n",
       "50%    7.618000e+03      1.500000      0.000000      0.000000      3.000000   \n",
       "75%    1.068800e+04      2.000000      0.000000      0.000000      4.000000   \n",
       "max    1.651359e+06      3.500000      1.000000      4.000000      5.000000   \n",
       "\n",
       "              grade    sqft_above  sqft_basement      yr_built  yr_renovated  \\\n",
       "count  21613.000000  21613.000000   21613.000000  21613.000000  21613.000000   \n",
       "mean       7.656873   1788.390691     291.509045   1971.005136     84.402258   \n",
       "std        1.175459    828.090978     442.575043     29.373411    401.679240   \n",
       "min        1.000000    290.000000       0.000000   1900.000000      0.000000   \n",
       "25%        7.000000   1190.000000       0.000000   1951.000000      0.000000   \n",
       "50%        7.000000   1560.000000       0.000000   1975.000000      0.000000   \n",
       "75%        8.000000   2210.000000     560.000000   1997.000000      0.000000   \n",
       "max       13.000000   9410.000000    4820.000000   2015.000000   2015.000000   \n",
       "\n",
       "            zipcode           lat          long  sqft_living15     sqft_lot15  \n",
       "count  21613.000000  21613.000000  21613.000000   21613.000000   21613.000000  \n",
       "mean   98077.939805     47.560053   -122.213896    1986.552492   12768.455652  \n",
       "std       53.505026      0.138564      0.140828     685.391304   27304.179631  \n",
       "min    98001.000000     47.155900   -122.519000     399.000000     651.000000  \n",
       "25%    98033.000000     47.471000   -122.328000    1490.000000    5100.000000  \n",
       "50%    98065.000000     47.571800   -122.230000    1840.000000    7620.000000  \n",
       "75%    98118.000000     47.678000   -122.125000    2360.000000   10083.000000  \n",
       "max    98199.000000     47.777600   -121.315000    6210.000000  871200.000000  "
      ]
     },
     "execution_count": 4,
     "metadata": {},
     "output_type": "execute_result"
    }
   ],
   "source": [
    "df.describe()"
   ]
  },
  {
   "cell_type": "code",
   "execution_count": 5,
   "id": "806b2b13",
   "metadata": {},
   "outputs": [
    {
     "data": {
      "text/plain": [
       "Index(['id', 'date', 'price', 'bedrooms', 'bathrooms', 'sqft_living',\n",
       "       'sqft_lot', 'floors', 'waterfront', 'view', 'condition', 'grade',\n",
       "       'sqft_above', 'sqft_basement', 'yr_built', 'yr_renovated', 'zipcode',\n",
       "       'lat', 'long', 'sqft_living15', 'sqft_lot15'],\n",
       "      dtype='object')"
      ]
     },
     "execution_count": 5,
     "metadata": {},
     "output_type": "execute_result"
    }
   ],
   "source": [
    "df.columns"
   ]
  },
  {
   "cell_type": "markdown",
   "id": "f6716596",
   "metadata": {},
   "source": [
    "# Features"
   ]
  },
  {
   "cell_type": "markdown",
   "id": "d823c2c3",
   "metadata": {},
   "source": [
    "## date\n",
    "* split by date\n",
    "* plot trend/#transactions over time"
   ]
  },
  {
   "cell_type": "code",
   "execution_count": 6,
   "id": "ed9a2dda",
   "metadata": {
    "scrolled": true
   },
   "outputs": [
    {
     "data": {
      "text/plain": [
       "16768   2014-05-02\n",
       "9596    2014-05-02\n",
       "9587    2014-05-02\n",
       "20602   2014-05-02\n",
       "11577   2014-05-02\n",
       "           ...    \n",
       "7898    2015-05-14\n",
       "928     2015-05-14\n",
       "5637    2015-05-15\n",
       "13053   2015-05-24\n",
       "16594   2015-05-27\n",
       "Name: date, Length: 21613, dtype: datetime64[ns]"
      ]
     },
     "execution_count": 6,
     "metadata": {},
     "output_type": "execute_result"
    }
   ],
   "source": [
    "df[\"date\"].sort_values()"
   ]
  },
  {
   "cell_type": "code",
   "execution_count": 7,
   "id": "884b40e3",
   "metadata": {},
   "outputs": [
    {
     "data": {
      "text/plain": [
       "Timestamp('2015-03-10 00:00:00')"
      ]
     },
     "execution_count": 7,
     "metadata": {},
     "output_type": "execute_result"
    }
   ],
   "source": [
    "df[\"date\"].quantile(q=0.8)"
   ]
  },
  {
   "cell_type": "code",
   "execution_count": null,
   "id": "523296db",
   "metadata": {},
   "outputs": [],
   "source": []
  },
  {
   "cell_type": "code",
   "execution_count": 8,
   "id": "5000bd5d",
   "metadata": {},
   "outputs": [
    {
     "data": {
      "text/plain": [
       "795000620     3.0\n",
       "8651510380    2.0\n",
       "2568300045    2.0\n",
       "9353300600    2.0\n",
       "4139480200    2.0\n",
       "             ... \n",
       "3630120700    2.0\n",
       "4031000520    2.0\n",
       "4302201085    2.0\n",
       "2206700215    2.0\n",
       "6021501535    2.0\n",
       "Name: id, Length: 176, dtype: float64"
      ]
     },
     "execution_count": 8,
     "metadata": {},
     "output_type": "execute_result"
    }
   ],
   "source": [
    "(df['id'].value_counts()\n",
    "         .where(lambda el: el > 1)\n",
    "         .dropna()\n",
    ")"
   ]
  },
  {
   "cell_type": "code",
   "execution_count": 9,
   "id": "57e11900",
   "metadata": {},
   "outputs": [],
   "source": [
    "df['year'] = df['date'].dt.year\n",
    "df['month'] = df['date'].dt.month"
   ]
  },
  {
   "cell_type": "code",
   "execution_count": 10,
   "id": "be37599a",
   "metadata": {
    "scrolled": true
   },
   "outputs": [
    {
     "data": {
      "image/png": "[encoded data removed]",
      "text/plain": [
       "<Figure size 432x288 with 1 Axes>"
      ]
     },
     "metadata": {
      "needs_background": "light"
     },
     "output_type": "display_data"
    }
   ],
   "source": [
    "# #sales per month\n",
    "df.groupby(['year', 'month']).size().plot();"
   ]
  },
  {
   "cell_type": "code",
   "execution_count": 11,
   "id": "af02e7de",
   "metadata": {
    "scrolled": true
   },
   "outputs": [
    {
     "data": {
      "image/png": "[encoded data removed]",
      "text/plain": [
       "<Figure size 432x288 with 1 Axes>"
      ]
     },
     "metadata": {
      "needs_background": "light"
     },
     "output_type": "display_data"
    }
   ],
   "source": [
    "# average price sales over the months\n",
    "df.groupby(['year', 'month'])['price'].mean().plot();"
   ]
  },
  {
   "cell_type": "markdown",
   "id": "05746378",
   "metadata": {},
   "source": [
    "## zipcode\n",
    "* potential splitbn\n",
    "* information about locatio"
   ]
  },
  {
   "cell_type": "code",
   "execution_count": 12,
   "id": "0f4e4e39",
   "metadata": {},
   "outputs": [
    {
     "data": {
      "text/plain": [
       "count     70.000000\n",
       "mean     308.757143\n",
       "std      142.267296\n",
       "min       50.000000\n",
       "25%      204.500000\n",
       "50%      282.500000\n",
       "75%      409.000000\n",
       "max      602.000000\n",
       "dtype: float64"
      ]
     },
     "execution_count": 12,
     "metadata": {},
     "output_type": "execute_result"
    }
   ],
   "source": [
    "# regression per zipcode?\n",
    "df.groupby(\"zipcode\").size().describe()"
   ]
  },
  {
   "cell_type": "code",
   "execution_count": 13,
   "id": "59e74d20",
   "metadata": {
    "scrolled": false
   },
   "outputs": [
    {
     "data": {
      "text/plain": [
       "count     70.000000\n",
       "mean     247.942857\n",
       "std      113.657620\n",
       "min       42.000000\n",
       "25%      165.750000\n",
       "50%      225.000000\n",
       "75%      335.000000\n",
       "max      484.000000\n",
       "dtype: float64"
      ]
     },
     "execution_count": 13,
     "metadata": {},
     "output_type": "execute_result"
    }
   ],
   "source": [
    "# split by date and possible group by zipcode (train)\n",
    "df.loc[df['date']  <= datetime.strptime(\"2015-03-10\", \"%Y-%m-%d\")].groupby(\"zipcode\").size().describe()"
   ]
  },
  {
   "cell_type": "code",
   "execution_count": 14,
   "id": "3db7a1e7",
   "metadata": {
    "scrolled": true
   },
   "outputs": [
    {
     "data": {
      "text/plain": [
       "count     70.000000\n",
       "mean      60.814286\n",
       "std       30.095160\n",
       "min        8.000000\n",
       "25%       38.750000\n",
       "50%       59.000000\n",
       "75%       77.750000\n",
       "max      133.000000\n",
       "dtype: float64"
      ]
     },
     "execution_count": 14,
     "metadata": {},
     "output_type": "execute_result"
    }
   ],
   "source": [
    "# split by date and possible group by zipcode (test)\n",
    "df.loc[df['date']  > datetime.strptime(\"2015-03-10\", \"%Y-%m-%d\")].groupby(\"zipcode\").size().describe()"
   ]
  },
  {
   "cell_type": "code",
   "execution_count": 15,
   "id": "171bc185",
   "metadata": {},
   "outputs": [
    {
     "data": {
      "text/plain": [
       "(17356, 23)"
      ]
     },
     "execution_count": 15,
     "metadata": {},
     "output_type": "execute_result"
    }
   ],
   "source": [
    "df_train = df[df['date']  <= datetime.strptime(\"2015-03-10\", \"%Y-%m-%d\")].copy()\n",
    "df_train.shape"
   ]
  },
  {
   "cell_type": "code",
   "execution_count": null,
   "id": "b873589a",
   "metadata": {},
   "outputs": [],
   "source": []
  },
  {
   "cell_type": "markdown",
   "id": "37164c78",
   "metadata": {},
   "source": [
    "## Target- price\n",
    "* should look normal\n",
    "* log-price as possible transformation\n",
    "* plot- general and per zipcode"
   ]
  },
  {
   "cell_type": "code",
   "execution_count": 16,
   "id": "ff138e79",
   "metadata": {},
   "outputs": [],
   "source": [
    "df_train.loc[:, 'log_price'] = np.log(df_train['price'])"
   ]
  },
  {
   "cell_type": "code",
   "execution_count": 17,
   "id": "cef6a332",
   "metadata": {},
   "outputs": [
    {
     "data": {
      "text/html": [
       "<div>\n",
       "<style scoped>\n",
       "    .dataframe tbody tr th:only-of-type {\n",
       "        vertical-align: middle;\n",
       "    }\n",
       "\n",
       "    .dataframe tbody tr th {\n",
       "        vertical-align: top;\n",
       "    }\n",
       "\n",
       "    .dataframe thead th {\n",
       "        text-align: right;\n",
       "    }\n",
       "</style>\n",
       "<table border=\"1\" class=\"dataframe\">\n",
       "  <thead>\n",
       "    <tr style=\"text-align: right;\">\n",
       "      <th></th>\n",
       "      <th>price</th>\n",
       "      <th>log_price</th>\n",
       "    </tr>\n",
       "  </thead>\n",
       "  <tbody>\n",
       "    <tr>\n",
       "      <th>count</th>\n",
       "      <td>1.735600e+04</td>\n",
       "      <td>17356.000000</td>\n",
       "    </tr>\n",
       "    <tr>\n",
       "      <th>mean</th>\n",
       "      <td>5.364230e+05</td>\n",
       "      <td>13.040060</td>\n",
       "    </tr>\n",
       "    <tr>\n",
       "      <th>std</th>\n",
       "      <td>3.666853e+05</td>\n",
       "      <td>0.528123</td>\n",
       "    </tr>\n",
       "    <tr>\n",
       "      <th>min</th>\n",
       "      <td>7.500000e+04</td>\n",
       "      <td>11.225243</td>\n",
       "    </tr>\n",
       "    <tr>\n",
       "      <th>25%</th>\n",
       "      <td>3.199500e+05</td>\n",
       "      <td>12.675920</td>\n",
       "    </tr>\n",
       "    <tr>\n",
       "      <th>50%</th>\n",
       "      <td>4.490000e+05</td>\n",
       "      <td>13.014778</td>\n",
       "    </tr>\n",
       "    <tr>\n",
       "      <th>75%</th>\n",
       "      <td>6.390000e+05</td>\n",
       "      <td>13.367660</td>\n",
       "    </tr>\n",
       "    <tr>\n",
       "      <th>max</th>\n",
       "      <td>7.700000e+06</td>\n",
       "      <td>15.856731</td>\n",
       "    </tr>\n",
       "  </tbody>\n",
       "</table>\n",
       "</div>"
      ],
      "text/plain": [
       "              price     log_price\n",
       "count  1.735600e+04  17356.000000\n",
       "mean   5.364230e+05     13.040060\n",
       "std    3.666853e+05      0.528123\n",
       "min    7.500000e+04     11.225243\n",
       "25%    3.199500e+05     12.675920\n",
       "50%    4.490000e+05     13.014778\n",
       "75%    6.390000e+05     13.367660\n",
       "max    7.700000e+06     15.856731"
      ]
     },
     "execution_count": 17,
     "metadata": {},
     "output_type": "execute_result"
    }
   ],
   "source": [
    "df_train[['price', 'log_price']].describe()"
   ]
  },
  {
   "cell_type": "code",
   "execution_count": 18,
   "id": "92289ee3",
   "metadata": {},
   "outputs": [
    {
     "data": {
      "image/png": "[encoded data removed]",
      "text/plain": [
       "<Figure size 432x288 with 1 Axes>"
      ]
     },
     "metadata": {
      "needs_background": "light"
     },
     "output_type": "display_data"
    }
   ],
   "source": [
    "df_train[['log_price']].boxplot();"
   ]
  },
  {
   "cell_type": "code",
   "execution_count": 19,
   "id": "0699df95",
   "metadata": {},
   "outputs": [
    {
     "data": {
      "image/png": "[encoded data removed]",
      "text/plain": [
       "<Figure size 864x432 with 2 Axes>"
      ]
     },
     "metadata": {
      "needs_background": "light"
     },
     "output_type": "display_data"
    }
   ],
   "source": [
    "fig, (ax1, ax2) = plt.subplots(figsize=(12, 6), ncols=2);\n",
    "df_train['price'].plot(kind=\"kde\",ax=ax1);\n",
    "df_train['log_price'].plot(kind=\"kde\", ax=ax2);\n",
    "ax1.set_title(\"price\")\n",
    "ax2.set_title(\"log-price\")\n",
    "plt.show()"
   ]
  },
  {
   "cell_type": "code",
   "execution_count": null,
   "id": "b0a6afd6",
   "metadata": {},
   "outputs": [],
   "source": []
  },
  {
   "cell_type": "code",
   "execution_count": 20,
   "id": "61e39f10",
   "metadata": {},
   "outputs": [],
   "source": [
    "df_train_plot = df_train.loc[df_train[\"zipcode\"].isin([98146, 98038, 98007, 98107, 98003, 98023, 98115, 98070, 98042])]"
   ]
  },
  {
   "cell_type": "code",
   "execution_count": 21,
   "id": "29309c03",
   "metadata": {
    "scrolled": true
   },
   "outputs": [
    {
     "data": {
      "image/png": "[encoded data removed]",
      "text/plain": [
       "<Figure size 432x288 with 1 Axes>"
      ]
     },
     "metadata": {
      "needs_background": "light"
     },
     "output_type": "display_data"
    }
   ],
   "source": [
    "# looks approx. normal per zipcode\n",
    "sns.kdeplot(data=df_train_plot, x=\"log_price\", hue=\"zipcode\");"
   ]
  },
  {
   "cell_type": "code",
   "execution_count": null,
   "id": "c7be3456",
   "metadata": {
    "scrolled": false
   },
   "outputs": [],
   "source": []
  },
  {
   "cell_type": "markdown",
   "id": "601a84b2",
   "metadata": {},
   "source": [
    "## Discrete Variables"
   ]
  },
  {
   "cell_type": "code",
   "execution_count": null,
   "id": "31444ca5",
   "metadata": {},
   "outputs": [],
   "source": []
  },
  {
   "cell_type": "code",
   "execution_count": 22,
   "id": "034f483b",
   "metadata": {},
   "outputs": [],
   "source": [
    "def convert_col2cat(df: pd.DataFrame, col: str, bins: Union[Iterable,int],\n",
    "                    labels: Optional[Iterable]=None) -> Tuple[pd.Series, Dict[str, str]]:\n",
    "    cat_col = pd.cut(df[col], bins=bins, labels=labels)\n",
    "    mapping = dict(zip(cat_col.cat.codes, cat_col))\n",
    "    cat_col = cat_col.cat.codes\n",
    "    return cat_col, mapping\n"
   ]
  },
  {
   "cell_type": "markdown",
   "id": "ab462859",
   "metadata": {
    "scrolled": true
   },
   "source": [
    "### bedrooms\n",
    "* group values"
   ]
  },
  {
   "cell_type": "code",
   "execution_count": 23,
   "id": "6db8e747",
   "metadata": {},
   "outputs": [
    {
     "data": {
      "text/plain": [
       "IntervalIndex([(-0.001, 2.0], (2.0, 3.0], (3.0, 4.0], (4.0, 50.0]], dtype='interval[float64, right]')"
      ]
     },
     "execution_count": 23,
     "metadata": {},
     "output_type": "execute_result"
    }
   ],
   "source": [
    "# get categoreis\n",
    "pd.cut(df_train['bedrooms'], bins=[-0.001, 2, 3, 4, 50]).cat.categories\n",
    "# encode categories\n",
    "# pd.cut(df_train['bedrooms'], bins=[-0.001, 2, 3, 4, 50]).cat.codes"
   ]
  },
  {
   "cell_type": "code",
   "execution_count": 24,
   "id": "eb7ed1b1",
   "metadata": {},
   "outputs": [
    {
     "data": {
      "text/plain": [
       "0           (2.0, 3.0]\n",
       "1           (2.0, 3.0]\n",
       "2        (-0.001, 2.0]\n",
       "3           (3.0, 4.0]\n",
       "4           (2.0, 3.0]\n",
       "             ...      \n",
       "21608       (2.0, 3.0]\n",
       "21609       (3.0, 4.0]\n",
       "21610    (-0.001, 2.0]\n",
       "21611       (2.0, 3.0]\n",
       "21612    (-0.001, 2.0]\n",
       "Name: bedrooms, Length: 17356, dtype: category\n",
       "Categories (4, interval[float64, right]): [(-0.001, 2.0] < (2.0, 3.0] < (3.0, 4.0] < (4.0, 50.0]]"
      ]
     },
     "execution_count": 24,
     "metadata": {},
     "output_type": "execute_result"
    }
   ],
   "source": [
    "pd.cut(df_train['bedrooms'], bins=[-0.001, 2, 3, 4, 50])"
   ]
  },
  {
   "cell_type": "code",
   "execution_count": 25,
   "id": "60bde03d",
   "metadata": {},
   "outputs": [],
   "source": [
    "categories = pd.cut(df_train['bedrooms'], bins=[-0.001, 2, 3, 4, 50]).cat.categories\n",
    "tmp = pd.cut(df_train['bedrooms'], bins=[-0.001, 2, 3, 4, 50]).cat.codes"
   ]
  },
  {
   "cell_type": "code",
   "execution_count": 26,
   "id": "f6d9d433",
   "metadata": {},
   "outputs": [
    {
     "data": {
      "text/plain": [
       "0           (2.0, 3.0]\n",
       "1           (2.0, 3.0]\n",
       "2        (-0.001, 2.0]\n",
       "3           (3.0, 4.0]\n",
       "4           (2.0, 3.0]\n",
       "             ...      \n",
       "21608       (2.0, 3.0]\n",
       "21609       (3.0, 4.0]\n",
       "21610    (-0.001, 2.0]\n",
       "21611       (2.0, 3.0]\n",
       "21612    (-0.001, 2.0]\n",
       "Length: 17356, dtype: interval"
      ]
     },
     "execution_count": 26,
     "metadata": {},
     "output_type": "execute_result"
    }
   ],
   "source": [
    "# map from encoded value to category\n",
    "tmp.map(dict(zip(tmp, pd.cut(df_train['bedrooms'], bins=[-0.001, 2, 3, 4, 50]))))"
   ]
  },
  {
   "cell_type": "code",
   "execution_count": 27,
   "id": "18bc025e",
   "metadata": {},
   "outputs": [],
   "source": [
    "df_train['grouped_bedrooms'], bedrooms_encode2cat = convert_col2cat(df_train, col=\"bedrooms\", bins=[-0.001, 2, 3, 4, 50])"
   ]
  },
  {
   "cell_type": "code",
   "execution_count": 28,
   "id": "cc6890f6",
   "metadata": {},
   "outputs": [
    {
     "data": {
      "text/plain": [
       "0           (2.0, 3.0]\n",
       "1           (2.0, 3.0]\n",
       "2        (-0.001, 2.0]\n",
       "3           (3.0, 4.0]\n",
       "4           (2.0, 3.0]\n",
       "             ...      \n",
       "21608       (2.0, 3.0]\n",
       "21609       (3.0, 4.0]\n",
       "21610    (-0.001, 2.0]\n",
       "21611       (2.0, 3.0]\n",
       "21612    (-0.001, 2.0]\n",
       "Name: grouped_bedrooms, Length: 17356, dtype: interval"
      ]
     },
     "execution_count": 28,
     "metadata": {},
     "output_type": "execute_result"
    }
   ],
   "source": [
    "df_train['grouped_bedrooms'].map(bedrooms_encode2cat)"
   ]
  },
  {
   "cell_type": "code",
   "execution_count": 29,
   "id": "281775c5",
   "metadata": {
    "scrolled": false
   },
   "outputs": [
    {
     "name": "stdout",
     "output_type": "stream",
     "text": [
      "0       11\n",
      "1      160\n",
      "2     2184\n",
      "3     7900\n",
      "4     5558\n",
      "5     1272\n",
      "6      218\n",
      "7       32\n",
      "8       12\n",
      "9        4\n",
      "10       3\n",
      "11       1\n",
      "33       1\n",
      "Name: bedrooms, dtype: int64\n"
     ]
    },
    {
     "data": {
      "image/png": "[encoded data removed]",
      "text/plain": [
       "<Figure size 720x288 with 2 Axes>"
      ]
     },
     "metadata": {
      "needs_background": "light"
     },
     "output_type": "display_data"
    }
   ],
   "source": [
    "# quantile binning / entropy (MI) binning \n",
    "print(df_train['bedrooms'].value_counts().sort_index())\n",
    "fig, axes = plt.subplots(figsize=(10, 4), ncols=2)\n",
    "df_train['bedrooms'].hist(bins=30, ax=axes[0]);\n",
    "df_train['grouped_bedrooms'].hist(bins=30, ax=axes[1]);\n",
    "axes[0].set_title(\"bedrooms\")\n",
    "axes[1].set_title(\"grouped_bedrooms\")\n",
    "plt.show()"
   ]
  },
  {
   "cell_type": "code",
   "execution_count": 30,
   "id": "931891ac",
   "metadata": {},
   "outputs": [
    {
     "data": {
      "text/plain": [
       "1    7900\n",
       "2    5558\n",
       "0    2355\n",
       "3    1543\n",
       "Name: grouped_bedrooms, dtype: int64"
      ]
     },
     "execution_count": 30,
     "metadata": {},
     "output_type": "execute_result"
    }
   ],
   "source": [
    "df_train[\"grouped_bedrooms\"].value_counts()"
   ]
  },
  {
   "cell_type": "code",
   "execution_count": 31,
   "id": "9e2a3ff0",
   "metadata": {
    "scrolled": true
   },
   "outputs": [
    {
     "data": {
      "text/html": [
       "<div>\n",
       "<style scoped>\n",
       "    .dataframe tbody tr th:only-of-type {\n",
       "        vertical-align: middle;\n",
       "    }\n",
       "\n",
       "    .dataframe tbody tr th {\n",
       "        vertical-align: top;\n",
       "    }\n",
       "\n",
       "    .dataframe thead th {\n",
       "        text-align: right;\n",
       "    }\n",
       "</style>\n",
       "<table border=\"1\" class=\"dataframe\">\n",
       "  <thead>\n",
       "    <tr style=\"text-align: right;\">\n",
       "      <th></th>\n",
       "      <th>bedrooms</th>\n",
       "      <th>grouped_bedrooms</th>\n",
       "      <th>log_price</th>\n",
       "    </tr>\n",
       "  </thead>\n",
       "  <tbody>\n",
       "    <tr>\n",
       "      <th>bedrooms</th>\n",
       "      <td>1.000000</td>\n",
       "      <td>0.947547</td>\n",
       "      <td>0.342220</td>\n",
       "    </tr>\n",
       "    <tr>\n",
       "      <th>grouped_bedrooms</th>\n",
       "      <td>0.947547</td>\n",
       "      <td>1.000000</td>\n",
       "      <td>0.355562</td>\n",
       "    </tr>\n",
       "    <tr>\n",
       "      <th>log_price</th>\n",
       "      <td>0.342220</td>\n",
       "      <td>0.355562</td>\n",
       "      <td>1.000000</td>\n",
       "    </tr>\n",
       "  </tbody>\n",
       "</table>\n",
       "</div>"
      ],
      "text/plain": [
       "                  bedrooms  grouped_bedrooms  log_price\n",
       "bedrooms          1.000000          0.947547   0.342220\n",
       "grouped_bedrooms  0.947547          1.000000   0.355562\n",
       "log_price         0.342220          0.355562   1.000000"
      ]
     },
     "execution_count": 31,
     "metadata": {},
     "output_type": "execute_result"
    }
   ],
   "source": [
    "df_train[[\"bedrooms\", \"grouped_bedrooms\", \"log_price\"]].corr()"
   ]
  },
  {
   "cell_type": "markdown",
   "id": "6bda8bc9",
   "metadata": {
    "scrolled": true
   },
   "source": [
    "### bathrooms\n",
    "* group values"
   ]
  },
  {
   "cell_type": "code",
   "execution_count": 32,
   "id": "7bc27102",
   "metadata": {
    "scrolled": false
   },
   "outputs": [
    {
     "name": "stdout",
     "output_type": "stream",
     "text": [
      "0.00       8\n",
      "0.50       4\n",
      "0.75      60\n",
      "1.00    3030\n",
      "1.25       8\n",
      "1.50    1156\n",
      "1.75    2449\n",
      "2.00    1571\n",
      "2.25    1637\n",
      "2.50    4322\n",
      "2.75     967\n",
      "3.00     614\n",
      "3.25     473\n",
      "3.50     600\n",
      "3.75     119\n",
      "4.00     110\n",
      "4.25      65\n",
      "4.50      88\n",
      "4.75      21\n",
      "5.00      16\n",
      "5.25      12\n",
      "5.50       9\n",
      "5.75       4\n",
      "6.00       4\n",
      "6.25       2\n",
      "6.50       1\n",
      "6.75       2\n",
      "7.50       1\n",
      "7.75       1\n",
      "8.00       2\n",
      "Name: bathrooms, dtype: int64\n"
     ]
    }
   ],
   "source": [
    "# binnig? continuous?\n",
    "print(df_train['bathrooms'].value_counts().sort_index())"
   ]
  },
  {
   "cell_type": "code",
   "execution_count": 33,
   "id": "f168b154",
   "metadata": {},
   "outputs": [],
   "source": [
    "df_train['grouped_bathrooms'], bathrooms_encode2cat = convert_col2cat(df_train, col=\"bathrooms\", bins=[-0.001, 1, 2, 3, 20])"
   ]
  },
  {
   "cell_type": "code",
   "execution_count": 34,
   "id": "1878bba6",
   "metadata": {},
   "outputs": [
    {
     "data": {
      "image/png": "[encoded data removed]",
      "text/plain": [
       "<Figure size 720x288 with 2 Axes>"
      ]
     },
     "metadata": {
      "needs_background": "light"
     },
     "output_type": "display_data"
    }
   ],
   "source": [
    "fig, axes = plt.subplots(figsize=(10, 4), ncols=2)\n",
    "df_train['bathrooms'].hist(bins=30, ax=axes[0]);\n",
    "df_train['grouped_bathrooms'].hist(bins=30, ax=axes[1]);\n",
    "axes[0].set_title(\"bathrooms\")\n",
    "axes[1].set_title(\"grouped_bathrooms\")\n",
    "plt.show()"
   ]
  },
  {
   "cell_type": "code",
   "execution_count": 35,
   "id": "80465ba9",
   "metadata": {},
   "outputs": [],
   "source": [
    "# df_train['grouped_bathrooms'].map(bathrooms_encode2cat)"
   ]
  },
  {
   "cell_type": "code",
   "execution_count": 36,
   "id": "55db1a24",
   "metadata": {},
   "outputs": [
    {
     "data": {
      "text/html": [
       "<div>\n",
       "<style scoped>\n",
       "    .dataframe tbody tr th:only-of-type {\n",
       "        vertical-align: middle;\n",
       "    }\n",
       "\n",
       "    .dataframe tbody tr th {\n",
       "        vertical-align: top;\n",
       "    }\n",
       "\n",
       "    .dataframe thead th {\n",
       "        text-align: right;\n",
       "    }\n",
       "</style>\n",
       "<table border=\"1\" class=\"dataframe\">\n",
       "  <thead>\n",
       "    <tr style=\"text-align: right;\">\n",
       "      <th></th>\n",
       "      <th>bathrooms</th>\n",
       "      <th>grouped_bathrooms</th>\n",
       "      <th>log_price</th>\n",
       "    </tr>\n",
       "  </thead>\n",
       "  <tbody>\n",
       "    <tr>\n",
       "      <th>bathrooms</th>\n",
       "      <td>1.000000</td>\n",
       "      <td>0.945848</td>\n",
       "      <td>0.556656</td>\n",
       "    </tr>\n",
       "    <tr>\n",
       "      <th>grouped_bathrooms</th>\n",
       "      <td>0.945848</td>\n",
       "      <td>1.000000</td>\n",
       "      <td>0.521941</td>\n",
       "    </tr>\n",
       "    <tr>\n",
       "      <th>log_price</th>\n",
       "      <td>0.556656</td>\n",
       "      <td>0.521941</td>\n",
       "      <td>1.000000</td>\n",
       "    </tr>\n",
       "  </tbody>\n",
       "</table>\n",
       "</div>"
      ],
      "text/plain": [
       "                   bathrooms  grouped_bathrooms  log_price\n",
       "bathrooms           1.000000           0.945848   0.556656\n",
       "grouped_bathrooms   0.945848           1.000000   0.521941\n",
       "log_price           0.556656           0.521941   1.000000"
      ]
     },
     "execution_count": 36,
     "metadata": {},
     "output_type": "execute_result"
    }
   ],
   "source": [
    "df_train[['bathrooms', 'grouped_bathrooms', 'log_price']].corr()"
   ]
  },
  {
   "cell_type": "markdown",
   "id": "a88be963",
   "metadata": {
    "scrolled": true
   },
   "source": [
    "### floors\n",
    "* group values"
   ]
  },
  {
   "cell_type": "code",
   "execution_count": 37,
   "id": "3c18f0d2",
   "metadata": {
    "scrolled": true
   },
   "outputs": [
    {
     "name": "stdout",
     "output_type": "stream",
     "text": [
      "1.0    8542\n",
      "1.5    1520\n",
      "2.0    6653\n",
      "2.5     134\n",
      "3.0     501\n",
      "3.5       6\n",
      "Name: floors, dtype: int64\n"
     ]
    }
   ],
   "source": [
    "print(df_train['floors'].value_counts().sort_index())"
   ]
  },
  {
   "cell_type": "code",
   "execution_count": 38,
   "id": "092b47ad",
   "metadata": {},
   "outputs": [],
   "source": [
    "df_train['grouped_floors'], floors_encode2cat = convert_col2cat(df_train, col=\"floors\", bins=[0, 1, 1.5, 2.0, 5])"
   ]
  },
  {
   "cell_type": "code",
   "execution_count": 39,
   "id": "681367a6",
   "metadata": {},
   "outputs": [
    {
     "data": {
      "image/png": "[encoded data removed]",
      "text/plain": [
       "<Figure size 720x288 with 2 Axes>"
      ]
     },
     "metadata": {
      "needs_background": "light"
     },
     "output_type": "display_data"
    }
   ],
   "source": [
    "fig, axes = plt.subplots(figsize=(10, 4), ncols=2)\n",
    "df_train['floors'].hist(bins=30, ax=axes[0]);\n",
    "df_train['grouped_floors'].hist(bins=30, ax=axes[1]);\n",
    "axes[0].set_title(\"floors\")\n",
    "axes[1].set_title(\"grouped_floors\")\n",
    "plt.show()"
   ]
  },
  {
   "cell_type": "code",
   "execution_count": 40,
   "id": "27a9a867",
   "metadata": {},
   "outputs": [
    {
     "data": {
      "text/html": [
       "<div>\n",
       "<style scoped>\n",
       "    .dataframe tbody tr th:only-of-type {\n",
       "        vertical-align: middle;\n",
       "    }\n",
       "\n",
       "    .dataframe tbody tr th {\n",
       "        vertical-align: top;\n",
       "    }\n",
       "\n",
       "    .dataframe thead th {\n",
       "        text-align: right;\n",
       "    }\n",
       "</style>\n",
       "<table border=\"1\" class=\"dataframe\">\n",
       "  <thead>\n",
       "    <tr style=\"text-align: right;\">\n",
       "      <th></th>\n",
       "      <th>floors</th>\n",
       "      <th>grouped_floors</th>\n",
       "      <th>log_price</th>\n",
       "    </tr>\n",
       "  </thead>\n",
       "  <tbody>\n",
       "    <tr>\n",
       "      <th>floors</th>\n",
       "      <td>1.000000</td>\n",
       "      <td>0.988914</td>\n",
       "      <td>0.316061</td>\n",
       "    </tr>\n",
       "    <tr>\n",
       "      <th>grouped_floors</th>\n",
       "      <td>0.988914</td>\n",
       "      <td>1.000000</td>\n",
       "      <td>0.331116</td>\n",
       "    </tr>\n",
       "    <tr>\n",
       "      <th>log_price</th>\n",
       "      <td>0.316061</td>\n",
       "      <td>0.331116</td>\n",
       "      <td>1.000000</td>\n",
       "    </tr>\n",
       "  </tbody>\n",
       "</table>\n",
       "</div>"
      ],
      "text/plain": [
       "                  floors  grouped_floors  log_price\n",
       "floors          1.000000        0.988914   0.316061\n",
       "grouped_floors  0.988914        1.000000   0.331116\n",
       "log_price       0.316061        0.331116   1.000000"
      ]
     },
     "execution_count": 40,
     "metadata": {},
     "output_type": "execute_result"
    }
   ],
   "source": [
    "df_train[['floors', 'grouped_floors', 'log_price']].corr()"
   ]
  },
  {
   "cell_type": "markdown",
   "id": "a8efa37f",
   "metadata": {},
   "source": [
    "### waterfront\n",
    "* check if informative enough"
   ]
  },
  {
   "cell_type": "code",
   "execution_count": 41,
   "id": "9118e3db",
   "metadata": {},
   "outputs": [
    {
     "name": "stdout",
     "output_type": "stream",
     "text": [
      "0    0.992395\n",
      "1    0.007605\n",
      "Name: waterfront, dtype: float64\n"
     ]
    },
    {
     "data": {
      "text/plain": [
       "<AxesSubplot: >"
      ]
     },
     "execution_count": 41,
     "metadata": {},
     "output_type": "execute_result"
    },
    {
     "data": {
      "image/png": "[encoded data removed]",
      "text/plain": [
       "<Figure size 432x288 with 1 Axes>"
      ]
     },
     "metadata": {
      "needs_background": "light"
     },
     "output_type": "display_data"
    }
   ],
   "source": [
    "# binary- too skewed (remove)\n",
    "print(df_train['waterfront'].value_counts(normalize=True))\n",
    "df_train['waterfront'].hist()"
   ]
  },
  {
   "cell_type": "markdown",
   "id": "758ffa3c",
   "metadata": {},
   "source": [
    "### view\n",
    "* check if informative enough\n",
    "* add possible additional indicator"
   ]
  },
  {
   "cell_type": "code",
   "execution_count": 42,
   "id": "84a23916",
   "metadata": {},
   "outputs": [
    {
     "name": "stdout",
     "output_type": "stream",
     "text": [
      "   view_count  view_normalized\n",
      "0       15650         0.901705\n",
      "2         768         0.044250\n",
      "3         415         0.023911\n",
      "1         264         0.015211\n",
      "4         259         0.014923\n"
     ]
    },
    {
     "data": {
      "image/png": "[encoded data removed]",
      "text/plain": [
       "<Figure size 432x288 with 1 Axes>"
      ]
     },
     "metadata": {
      "needs_background": "light"
     },
     "output_type": "display_data"
    }
   ],
   "source": [
    "\n",
    "print(pd.concat([df_train['view'].value_counts().rename(\"view_count\"), \n",
    "                 df_train['view'].value_counts(normalize=True).rename(\"view_normalized\")], axis=1))\n",
    "df_train['view'].hist();"
   ]
  },
  {
   "cell_type": "code",
   "execution_count": 43,
   "id": "3bf6e850",
   "metadata": {
    "scrolled": true
   },
   "outputs": [
    {
     "data": {
      "text/html": [
       "<div>\n",
       "<style scoped>\n",
       "    .dataframe tbody tr th:only-of-type {\n",
       "        vertical-align: middle;\n",
       "    }\n",
       "\n",
       "    .dataframe tbody tr th {\n",
       "        vertical-align: top;\n",
       "    }\n",
       "\n",
       "    .dataframe thead th {\n",
       "        text-align: right;\n",
       "    }\n",
       "</style>\n",
       "<table border=\"1\" class=\"dataframe\">\n",
       "  <thead>\n",
       "    <tr style=\"text-align: right;\">\n",
       "      <th></th>\n",
       "      <th>has_view</th>\n",
       "      <th>has_view (normalized)</th>\n",
       "    </tr>\n",
       "  </thead>\n",
       "  <tbody>\n",
       "    <tr>\n",
       "      <th>0</th>\n",
       "      <td>15650</td>\n",
       "      <td>0.901705</td>\n",
       "    </tr>\n",
       "    <tr>\n",
       "      <th>1</th>\n",
       "      <td>1706</td>\n",
       "      <td>0.098295</td>\n",
       "    </tr>\n",
       "  </tbody>\n",
       "</table>\n",
       "</div>"
      ],
      "text/plain": [
       "   has_view  has_view (normalized)\n",
       "0     15650               0.901705\n",
       "1      1706               0.098295"
      ]
     },
     "execution_count": 43,
     "metadata": {},
     "output_type": "execute_result"
    }
   ],
   "source": [
    "df_train['has_view'] = (df_train['view'] > 0).astype(int)\n",
    "pd.concat([df_train['has_view'].value_counts(), \n",
    "           df_train['has_view'].value_counts(normalize=True).rename(\"has_view (normalized)\")],\n",
    "          axis=1)"
   ]
  },
  {
   "cell_type": "code",
   "execution_count": 44,
   "id": "423028b0",
   "metadata": {},
   "outputs": [
    {
     "data": {
      "text/plain": [
       "0    0.901705\n",
       "1    0.098295\n",
       "Name: has_view, dtype: float64"
      ]
     },
     "execution_count": 44,
     "metadata": {},
     "output_type": "execute_result"
    }
   ],
   "source": [
    "df_train['has_view'].value_counts(normalize=True)"
   ]
  },
  {
   "cell_type": "code",
   "execution_count": 45,
   "id": "b60d82c7",
   "metadata": {},
   "outputs": [
    {
     "data": {
      "text/html": [
       "<div>\n",
       "<style scoped>\n",
       "    .dataframe tbody tr th:only-of-type {\n",
       "        vertical-align: middle;\n",
       "    }\n",
       "\n",
       "    .dataframe tbody tr th {\n",
       "        vertical-align: top;\n",
       "    }\n",
       "\n",
       "    .dataframe thead th {\n",
       "        text-align: right;\n",
       "    }\n",
       "</style>\n",
       "<table border=\"1\" class=\"dataframe\">\n",
       "  <thead>\n",
       "    <tr style=\"text-align: right;\">\n",
       "      <th></th>\n",
       "      <th>count</th>\n",
       "      <th>mean</th>\n",
       "      <th>std</th>\n",
       "      <th>min</th>\n",
       "      <th>25%</th>\n",
       "      <th>50%</th>\n",
       "      <th>75%</th>\n",
       "      <th>max</th>\n",
       "    </tr>\n",
       "    <tr>\n",
       "      <th>has_view</th>\n",
       "      <th></th>\n",
       "      <th></th>\n",
       "      <th></th>\n",
       "      <th></th>\n",
       "      <th></th>\n",
       "      <th></th>\n",
       "      <th></th>\n",
       "      <th></th>\n",
       "    </tr>\n",
       "  </thead>\n",
       "  <tbody>\n",
       "    <tr>\n",
       "      <th>0</th>\n",
       "      <td>15650.0</td>\n",
       "      <td>12.981753</td>\n",
       "      <td>0.488132</td>\n",
       "      <td>11.225243</td>\n",
       "      <td>12.644166</td>\n",
       "      <td>12.971540</td>\n",
       "      <td>13.303017</td>\n",
       "      <td>15.532906</td>\n",
       "    </tr>\n",
       "    <tr>\n",
       "      <th>1</th>\n",
       "      <td>1706.0</td>\n",
       "      <td>13.574942</td>\n",
       "      <td>0.578465</td>\n",
       "      <td>11.944708</td>\n",
       "      <td>13.180632</td>\n",
       "      <td>13.537777</td>\n",
       "      <td>13.955055</td>\n",
       "      <td>15.856731</td>\n",
       "    </tr>\n",
       "  </tbody>\n",
       "</table>\n",
       "</div>"
      ],
      "text/plain": [
       "            count       mean       std        min        25%        50%  \\\n",
       "has_view                                                                  \n",
       "0         15650.0  12.981753  0.488132  11.225243  12.644166  12.971540   \n",
       "1          1706.0  13.574942  0.578465  11.944708  13.180632  13.537777   \n",
       "\n",
       "                75%        max  \n",
       "has_view                        \n",
       "0         13.303017  15.532906  \n",
       "1         13.955055  15.856731  "
      ]
     },
     "execution_count": 45,
     "metadata": {},
     "output_type": "execute_result"
    }
   ],
   "source": [
    "df_train.groupby(\"has_view\")[\"log_price\"].describe()"
   ]
  },
  {
   "cell_type": "code",
   "execution_count": 46,
   "id": "a713cf15",
   "metadata": {
    "scrolled": true
   },
   "outputs": [
    {
     "data": {
      "text/plain": [
       "<AxesSubplot: xlabel='log_price', ylabel='Count'>"
      ]
     },
     "execution_count": 46,
     "metadata": {},
     "output_type": "execute_result"
    },
    {
     "data": {
      "image/png": "[encoded data removed]",
      "text/plain": [
       "<Figure size 432x288 with 1 Axes>"
      ]
     },
     "metadata": {
      "needs_background": "light"
     },
     "output_type": "display_data"
    }
   ],
   "source": [
    "sns.histplot(data=df_train, x=\"log_price\", hue=\"has_view\", kde=True)"
   ]
  },
  {
   "cell_type": "code",
   "execution_count": 47,
   "id": "ef1029b1",
   "metadata": {
    "scrolled": false
   },
   "outputs": [
    {
     "data": {
      "text/html": [
       "<div>\n",
       "<style scoped>\n",
       "    .dataframe tbody tr th:only-of-type {\n",
       "        vertical-align: middle;\n",
       "    }\n",
       "\n",
       "    .dataframe tbody tr th {\n",
       "        vertical-align: top;\n",
       "    }\n",
       "\n",
       "    .dataframe thead th {\n",
       "        text-align: right;\n",
       "    }\n",
       "</style>\n",
       "<table border=\"1\" class=\"dataframe\">\n",
       "  <thead>\n",
       "    <tr style=\"text-align: right;\">\n",
       "      <th></th>\n",
       "      <th>view</th>\n",
       "      <th>has_view</th>\n",
       "      <th>log_price</th>\n",
       "    </tr>\n",
       "  </thead>\n",
       "  <tbody>\n",
       "    <tr>\n",
       "      <th>view</th>\n",
       "      <td>1.000000</td>\n",
       "      <td>0.926473</td>\n",
       "      <td>0.351465</td>\n",
       "    </tr>\n",
       "    <tr>\n",
       "      <th>has_view</th>\n",
       "      <td>0.926473</td>\n",
       "      <td>1.000000</td>\n",
       "      <td>0.334401</td>\n",
       "    </tr>\n",
       "    <tr>\n",
       "      <th>log_price</th>\n",
       "      <td>0.351465</td>\n",
       "      <td>0.334401</td>\n",
       "      <td>1.000000</td>\n",
       "    </tr>\n",
       "  </tbody>\n",
       "</table>\n",
       "</div>"
      ],
      "text/plain": [
       "               view  has_view  log_price\n",
       "view       1.000000  0.926473   0.351465\n",
       "has_view   0.926473  1.000000   0.334401\n",
       "log_price  0.351465  0.334401   1.000000"
      ]
     },
     "execution_count": 47,
     "metadata": {},
     "output_type": "execute_result"
    }
   ],
   "source": [
    "df_train[[\"view\", \"has_view\", \"log_price\"]].corr()"
   ]
  },
  {
   "cell_type": "markdown",
   "id": "43be226f",
   "metadata": {},
   "source": [
    "### condition\n",
    "* check if informative enough\n",
    "* regroup"
   ]
  },
  {
   "cell_type": "code",
   "execution_count": 49,
   "id": "09e8e42c",
   "metadata": {},
   "outputs": [],
   "source": [
    "df_train['grouped_condition'], condition_encode2cat = convert_col2cat(df_train, col=\"condition\", bins=[0, 2, 3, 4, 5])"
   ]
  },
  {
   "cell_type": "code",
   "execution_count": 50,
   "id": "38460d94",
   "metadata": {},
   "outputs": [
    {
     "data": {
      "text/plain": [
       "1    11166\n",
       "2     4575\n",
       "3     1460\n",
       "0      155\n",
       "Name: grouped_condition, dtype: int64"
      ]
     },
     "execution_count": 50,
     "metadata": {},
     "output_type": "execute_result"
    }
   ],
   "source": [
    "df_train['grouped_condition'].value_counts()"
   ]
  },
  {
   "cell_type": "code",
   "execution_count": 51,
   "id": "d65c9765",
   "metadata": {
    "scrolled": true
   },
   "outputs": [
    {
     "data": {
      "text/html": [
       "<div>\n",
       "<style scoped>\n",
       "    .dataframe tbody tr th:only-of-type {\n",
       "        vertical-align: middle;\n",
       "    }\n",
       "\n",
       "    .dataframe tbody tr th {\n",
       "        vertical-align: top;\n",
       "    }\n",
       "\n",
       "    .dataframe thead th {\n",
       "        text-align: right;\n",
       "    }\n",
       "</style>\n",
       "<table border=\"1\" class=\"dataframe\">\n",
       "  <thead>\n",
       "    <tr style=\"text-align: right;\">\n",
       "      <th></th>\n",
       "      <th>condition</th>\n",
       "      <th>normalized_condition</th>\n",
       "    </tr>\n",
       "  </thead>\n",
       "  <tbody>\n",
       "    <tr>\n",
       "      <th>1</th>\n",
       "      <td>24</td>\n",
       "      <td>0.001383</td>\n",
       "    </tr>\n",
       "    <tr>\n",
       "      <th>2</th>\n",
       "      <td>131</td>\n",
       "      <td>0.007548</td>\n",
       "    </tr>\n",
       "    <tr>\n",
       "      <th>3</th>\n",
       "      <td>11166</td>\n",
       "      <td>0.643351</td>\n",
       "    </tr>\n",
       "    <tr>\n",
       "      <th>4</th>\n",
       "      <td>4575</td>\n",
       "      <td>0.263598</td>\n",
       "    </tr>\n",
       "    <tr>\n",
       "      <th>5</th>\n",
       "      <td>1460</td>\n",
       "      <td>0.084121</td>\n",
       "    </tr>\n",
       "  </tbody>\n",
       "</table>\n",
       "</div>"
      ],
      "text/plain": [
       "   condition  normalized_condition\n",
       "1         24              0.001383\n",
       "2        131              0.007548\n",
       "3      11166              0.643351\n",
       "4       4575              0.263598\n",
       "5       1460              0.084121"
      ]
     },
     "execution_count": 51,
     "metadata": {},
     "output_type": "execute_result"
    }
   ],
   "source": [
    "pd.concat([df_train['condition'].value_counts().sort_index().rename('condition'),\n",
    "           df_train['condition'].value_counts(normalize=True).sort_index().rename('normalized_condition')],\n",
    "          axis=1)\n"
   ]
  },
  {
   "cell_type": "code",
   "execution_count": 52,
   "id": "b85fd9fa",
   "metadata": {
    "scrolled": false
   },
   "outputs": [
    {
     "data": {
      "text/plain": [
       "condition\n",
       "1    336539.583333\n",
       "2    320254.435115\n",
       "3    537779.641680\n",
       "4    518039.813770\n",
       "5    606334.173973\n",
       "Name: price, dtype: float64"
      ]
     },
     "execution_count": 52,
     "metadata": {},
     "output_type": "execute_result"
    }
   ],
   "source": [
    "df_train.groupby([\"condition\"])['price'].mean()"
   ]
  },
  {
   "cell_type": "code",
   "execution_count": 53,
   "id": "30928515",
   "metadata": {
    "scrolled": true
   },
   "outputs": [
    {
     "data": {
      "text/plain": [
       "yr_built  condition\n",
       "1900      1            392725.000000\n",
       "          2            560000.000000\n",
       "          3            591943.750000\n",
       "          4            513470.000000\n",
       "          5            720080.692308\n",
       "                           ...      \n",
       "2011      3            544614.070796\n",
       "2012      3            521765.508065\n",
       "2013      3            685972.825806\n",
       "2014      3            686677.386503\n",
       "2015      3            636976.235294\n",
       "Name: price, Length: 409, dtype: float64"
      ]
     },
     "execution_count": 53,
     "metadata": {},
     "output_type": "execute_result"
    }
   ],
   "source": [
    "df_train.groupby([\"yr_built\", \"condition\"])['price'].mean()"
   ]
  },
  {
   "cell_type": "code",
   "execution_count": 54,
   "id": "8ed372aa",
   "metadata": {},
   "outputs": [
    {
     "data": {
      "text/html": [
       "<div>\n",
       "<style scoped>\n",
       "    .dataframe tbody tr th:only-of-type {\n",
       "        vertical-align: middle;\n",
       "    }\n",
       "\n",
       "    .dataframe tbody tr th {\n",
       "        vertical-align: top;\n",
       "    }\n",
       "\n",
       "    .dataframe thead th {\n",
       "        text-align: right;\n",
       "    }\n",
       "</style>\n",
       "<table border=\"1\" class=\"dataframe\">\n",
       "  <thead>\n",
       "    <tr style=\"text-align: right;\">\n",
       "      <th></th>\n",
       "      <th>condition</th>\n",
       "      <th>grouped_condition</th>\n",
       "      <th>log_price</th>\n",
       "    </tr>\n",
       "  </thead>\n",
       "  <tbody>\n",
       "    <tr>\n",
       "      <th>condition</th>\n",
       "      <td>1.000000</td>\n",
       "      <td>0.998424</td>\n",
       "      <td>0.043734</td>\n",
       "    </tr>\n",
       "    <tr>\n",
       "      <th>grouped_condition</th>\n",
       "      <td>0.998424</td>\n",
       "      <td>1.000000</td>\n",
       "      <td>0.041766</td>\n",
       "    </tr>\n",
       "    <tr>\n",
       "      <th>log_price</th>\n",
       "      <td>0.043734</td>\n",
       "      <td>0.041766</td>\n",
       "      <td>1.000000</td>\n",
       "    </tr>\n",
       "  </tbody>\n",
       "</table>\n",
       "</div>"
      ],
      "text/plain": [
       "                   condition  grouped_condition  log_price\n",
       "condition           1.000000           0.998424   0.043734\n",
       "grouped_condition   0.998424           1.000000   0.041766\n",
       "log_price           0.043734           0.041766   1.000000"
      ]
     },
     "execution_count": 54,
     "metadata": {},
     "output_type": "execute_result"
    }
   ],
   "source": [
    "# small correlation between target and condition (removed)\n",
    "df_train[[\"condition\", \"grouped_condition\", \"log_price\"]].corr()"
   ]
  },
  {
   "cell_type": "markdown",
   "id": "e6289440",
   "metadata": {},
   "source": [
    "### grade\n",
    "* regroup"
   ]
  },
  {
   "cell_type": "code",
   "execution_count": 100,
   "id": "91f13566",
   "metadata": {
    "scrolled": false
   },
   "outputs": [
    {
     "data": {
      "text/plain": [
       "1        1\n",
       "3        3\n",
       "4       22\n",
       "5      188\n",
       "6     1605\n",
       "7     7191\n",
       "8     4876\n",
       "9     2126\n",
       "10     930\n",
       "11     328\n",
       "12      74\n",
       "13      12\n",
       "Name: grade, dtype: int64"
      ]
     },
     "execution_count": 100,
     "metadata": {},
     "output_type": "execute_result"
    }
   ],
   "source": [
    "df_train['grade'].value_counts().sort_index()"
   ]
  },
  {
   "cell_type": "code",
   "execution_count": 102,
   "id": "dd682fa4",
   "metadata": {},
   "outputs": [],
   "source": [
    "df_train['grouped_grade'], grade_encode2cat = convert_col2cat(df_train, col=\"grade\", bins=[-0.001, 5, 6, 7, 8, 9, 10, 20])"
   ]
  },
  {
   "cell_type": "code",
   "execution_count": 103,
   "id": "22c71426",
   "metadata": {},
   "outputs": [
    {
     "data": {
      "image/png": "[encoded data removed]",
      "text/plain": [
       "<Figure size 720x288 with 2 Axes>"
      ]
     },
     "metadata": {
      "needs_background": "light"
     },
     "output_type": "display_data"
    }
   ],
   "source": [
    "fig, axes = plt.subplots(figsize=(10, 4), ncols=2)\n",
    "df_train['grade'].hist(bins=30, ax=axes[0]);\n",
    "df_train['grouped_grade'].hist(bins=30, ax=axes[1]);\n",
    "axes[0].set_title(\"grade\")\n",
    "axes[1].set_title(\"grouped_grade\")\n",
    "plt.show()"
   ]
  },
  {
   "cell_type": "code",
   "execution_count": 104,
   "id": "ef7c0d7b",
   "metadata": {},
   "outputs": [
    {
     "data": {
      "text/html": [
       "<div>\n",
       "<style scoped>\n",
       "    .dataframe tbody tr th:only-of-type {\n",
       "        vertical-align: middle;\n",
       "    }\n",
       "\n",
       "    .dataframe tbody tr th {\n",
       "        vertical-align: top;\n",
       "    }\n",
       "\n",
       "    .dataframe thead th {\n",
       "        text-align: right;\n",
       "    }\n",
       "</style>\n",
       "<table border=\"1\" class=\"dataframe\">\n",
       "  <thead>\n",
       "    <tr style=\"text-align: right;\">\n",
       "      <th></th>\n",
       "      <th>grade</th>\n",
       "      <th>grouped_grade</th>\n",
       "      <th>log_price</th>\n",
       "    </tr>\n",
       "  </thead>\n",
       "  <tbody>\n",
       "    <tr>\n",
       "      <th>grade</th>\n",
       "      <td>1.000000</td>\n",
       "      <td>0.996591</td>\n",
       "      <td>0.710314</td>\n",
       "    </tr>\n",
       "    <tr>\n",
       "      <th>grouped_grade</th>\n",
       "      <td>0.996591</td>\n",
       "      <td>1.000000</td>\n",
       "      <td>0.708131</td>\n",
       "    </tr>\n",
       "    <tr>\n",
       "      <th>log_price</th>\n",
       "      <td>0.710314</td>\n",
       "      <td>0.708131</td>\n",
       "      <td>1.000000</td>\n",
       "    </tr>\n",
       "  </tbody>\n",
       "</table>\n",
       "</div>"
      ],
      "text/plain": [
       "                  grade  grouped_grade  log_price\n",
       "grade          1.000000       0.996591   0.710314\n",
       "grouped_grade  0.996591       1.000000   0.708131\n",
       "log_price      0.710314       0.708131   1.000000"
      ]
     },
     "execution_count": 104,
     "metadata": {},
     "output_type": "execute_result"
    }
   ],
   "source": [
    "df_train[[\"grade\", \"grouped_grade\", \"log_price\"]].corr()"
   ]
  },
  {
   "cell_type": "markdown",
   "id": "954d0d7b",
   "metadata": {},
   "source": [
    "## Continuous Variables"
   ]
  },
  {
   "cell_type": "markdown",
   "id": "b37078c1",
   "metadata": {},
   "source": [
    "### sqft_living, sqft_living15\n",
    "* check transformations- log/sqrt"
   ]
  },
  {
   "cell_type": "code",
   "execution_count": 105,
   "id": "501b8ad3",
   "metadata": {},
   "outputs": [
    {
     "data": {
      "text/html": [
       "<div>\n",
       "<style scoped>\n",
       "    .dataframe tbody tr th:only-of-type {\n",
       "        vertical-align: middle;\n",
       "    }\n",
       "\n",
       "    .dataframe tbody tr th {\n",
       "        vertical-align: top;\n",
       "    }\n",
       "\n",
       "    .dataframe thead th {\n",
       "        text-align: right;\n",
       "    }\n",
       "</style>\n",
       "<table border=\"1\" class=\"dataframe\">\n",
       "  <thead>\n",
       "    <tr style=\"text-align: right;\">\n",
       "      <th></th>\n",
       "      <th>sqft_living</th>\n",
       "      <th>sqft_living15</th>\n",
       "    </tr>\n",
       "  </thead>\n",
       "  <tbody>\n",
       "    <tr>\n",
       "      <th>count</th>\n",
       "      <td>17356.000000</td>\n",
       "      <td>17356.000000</td>\n",
       "    </tr>\n",
       "    <tr>\n",
       "      <th>mean</th>\n",
       "      <td>2088.619209</td>\n",
       "      <td>1990.343051</td>\n",
       "    </tr>\n",
       "    <tr>\n",
       "      <th>std</th>\n",
       "      <td>926.124972</td>\n",
       "      <td>688.371864</td>\n",
       "    </tr>\n",
       "    <tr>\n",
       "      <th>min</th>\n",
       "      <td>290.000000</td>\n",
       "      <td>460.000000</td>\n",
       "    </tr>\n",
       "    <tr>\n",
       "      <th>25%</th>\n",
       "      <td>1430.000000</td>\n",
       "      <td>1490.000000</td>\n",
       "    </tr>\n",
       "    <tr>\n",
       "      <th>50%</th>\n",
       "      <td>1920.000000</td>\n",
       "      <td>1840.000000</td>\n",
       "    </tr>\n",
       "    <tr>\n",
       "      <th>75%</th>\n",
       "      <td>2560.000000</td>\n",
       "      <td>2370.000000</td>\n",
       "    </tr>\n",
       "    <tr>\n",
       "      <th>max</th>\n",
       "      <td>13540.000000</td>\n",
       "      <td>6210.000000</td>\n",
       "    </tr>\n",
       "  </tbody>\n",
       "</table>\n",
       "</div>"
      ],
      "text/plain": [
       "        sqft_living  sqft_living15\n",
       "count  17356.000000   17356.000000\n",
       "mean    2088.619209    1990.343051\n",
       "std      926.124972     688.371864\n",
       "min      290.000000     460.000000\n",
       "25%     1430.000000    1490.000000\n",
       "50%     1920.000000    1840.000000\n",
       "75%     2560.000000    2370.000000\n",
       "max    13540.000000    6210.000000"
      ]
     },
     "execution_count": 105,
     "metadata": {},
     "output_type": "execute_result"
    }
   ],
   "source": [
    "df_train[['sqft_living', 'sqft_living15']].describe()"
   ]
  },
  {
   "cell_type": "code",
   "execution_count": 106,
   "id": "101a5337",
   "metadata": {},
   "outputs": [
    {
     "data": {
      "image/png": "[encoded data removed]",
      "text/plain": [
       "<Figure size 864x576 with 6 Axes>"
      ]
     },
     "metadata": {
      "needs_background": "light"
     },
     "output_type": "display_data"
    }
   ],
   "source": [
    "# transformations: noting/identity, sqrt, and log\n",
    "\n",
    "fig, axes = plt.subplots(figsize=(12, 8), nrows=2, ncols=3)  # , sharey=True\n",
    "df_train['sqft_living'].hist(bins=50, ax=axes[0, 0])\n",
    "axes[0, 0].set_title(\"sqft_living\")\n",
    "np.sqrt(df_train['sqft_living']).hist(bins=50, ax=axes[0, 1]);\n",
    "axes[0, 1].set_title(\"sqrt sqft_living\")\n",
    "np.log(df_train['sqft_living']).hist(bins=50, ax=axes[0, 2]);\n",
    "axes[0, 2].set_title(\"log sqft_living\")\n",
    "df_train['sqft_living15'].hist(bins=50, ax=axes[1, 0])\n",
    "axes[1, 0].set_title(\"sqft_living15\")\n",
    "np.sqrt(df_train['sqft_living15']).hist(bins=50, ax=axes[1, 1]);\n",
    "axes[1, 1].set_title(\"sqrt sqft_living15\")\n",
    "np.log(df_train['sqft_living15']).hist(bins=50, ax=axes[1, 2]);\n",
    "axes[1, 2].set_title(\"log sqft_living15\")\n",
    "\n",
    "plt.show()"
   ]
  },
  {
   "cell_type": "code",
   "execution_count": 107,
   "id": "decd6ba9",
   "metadata": {
    "scrolled": true
   },
   "outputs": [
    {
     "data": {
      "image/png": "[encoded data removed]",
      "text/plain": [
       "<Figure size 720x432 with 1 Axes>"
      ]
     },
     "metadata": {
      "needs_background": "light"
     },
     "output_type": "display_data"
    }
   ],
   "source": [
    "fix, ax = plt.subplots(figsize=(10, 6))\n",
    "np.log(df_train['sqft_living']).hist(bins=50, ax=ax, label='sqft_living', alpha=0.5);\n",
    "np.log(df_train['sqft_living15']).hist(bins=50, ax=ax, label='sqft_living15', alpha=0.5);\n",
    "ax.legend()\n",
    "ax.set(title='sqrt living')\n",
    "plt.show()"
   ]
  },
  {
   "cell_type": "code",
   "execution_count": 108,
   "id": "0f3481d4",
   "metadata": {},
   "outputs": [],
   "source": [
    "df_train['log_sqft_living'] = np.log(df_train['sqft_living'])\n",
    "df_train['log_sqft_living15'] = np.log(df_train['sqft_living15'])"
   ]
  },
  {
   "cell_type": "code",
   "execution_count": 109,
   "id": "66a4d90a",
   "metadata": {},
   "outputs": [
    {
     "data": {
      "text/html": [
       "<div>\n",
       "<style scoped>\n",
       "    .dataframe tbody tr th:only-of-type {\n",
       "        vertical-align: middle;\n",
       "    }\n",
       "\n",
       "    .dataframe tbody tr th {\n",
       "        vertical-align: top;\n",
       "    }\n",
       "\n",
       "    .dataframe thead th {\n",
       "        text-align: right;\n",
       "    }\n",
       "</style>\n",
       "<table border=\"1\" class=\"dataframe\">\n",
       "  <thead>\n",
       "    <tr style=\"text-align: right;\">\n",
       "      <th></th>\n",
       "      <th>sqft_living</th>\n",
       "      <th>sqft_living15</th>\n",
       "      <th>log_sqft_living</th>\n",
       "      <th>log_sqft_living15</th>\n",
       "      <th>log_price</th>\n",
       "    </tr>\n",
       "  </thead>\n",
       "  <tbody>\n",
       "    <tr>\n",
       "      <th>sqft_living</th>\n",
       "      <td>1.000000</td>\n",
       "      <td>0.753912</td>\n",
       "      <td>0.952927</td>\n",
       "      <td>0.730782</td>\n",
       "      <td>0.701319</td>\n",
       "    </tr>\n",
       "    <tr>\n",
       "      <th>sqft_living15</th>\n",
       "      <td>0.753912</td>\n",
       "      <td>1.000000</td>\n",
       "      <td>0.736168</td>\n",
       "      <td>0.976995</td>\n",
       "      <td>0.622194</td>\n",
       "    </tr>\n",
       "    <tr>\n",
       "      <th>log_sqft_living</th>\n",
       "      <td>0.952927</td>\n",
       "      <td>0.736168</td>\n",
       "      <td>1.000000</td>\n",
       "      <td>0.746840</td>\n",
       "      <td>0.681944</td>\n",
       "    </tr>\n",
       "    <tr>\n",
       "      <th>log_sqft_living15</th>\n",
       "      <td>0.730782</td>\n",
       "      <td>0.976995</td>\n",
       "      <td>0.746840</td>\n",
       "      <td>1.000000</td>\n",
       "      <td>0.611030</td>\n",
       "    </tr>\n",
       "    <tr>\n",
       "      <th>log_price</th>\n",
       "      <td>0.701319</td>\n",
       "      <td>0.622194</td>\n",
       "      <td>0.681944</td>\n",
       "      <td>0.611030</td>\n",
       "      <td>1.000000</td>\n",
       "    </tr>\n",
       "  </tbody>\n",
       "</table>\n",
       "</div>"
      ],
      "text/plain": [
       "                   sqft_living  sqft_living15  log_sqft_living  \\\n",
       "sqft_living           1.000000       0.753912         0.952927   \n",
       "sqft_living15         0.753912       1.000000         0.736168   \n",
       "log_sqft_living       0.952927       0.736168         1.000000   \n",
       "log_sqft_living15     0.730782       0.976995         0.746840   \n",
       "log_price             0.701319       0.622194         0.681944   \n",
       "\n",
       "                   log_sqft_living15  log_price  \n",
       "sqft_living                 0.730782   0.701319  \n",
       "sqft_living15               0.976995   0.622194  \n",
       "log_sqft_living             0.746840   0.681944  \n",
       "log_sqft_living15           1.000000   0.611030  \n",
       "log_price                   0.611030   1.000000  "
      ]
     },
     "execution_count": 109,
     "metadata": {},
     "output_type": "execute_result"
    }
   ],
   "source": [
    "df_train[['sqft_living', 'sqft_living15', 'log_sqft_living', 'log_sqft_living15', 'log_price']].corr()"
   ]
  },
  {
   "cell_type": "markdown",
   "id": "b3949dc4",
   "metadata": {},
   "source": [
    "### sqft_lot, sqft_lot15\n",
    "* check transformations- log/sqrt"
   ]
  },
  {
   "cell_type": "code",
   "execution_count": 111,
   "id": "8317c937",
   "metadata": {
    "scrolled": true
   },
   "outputs": [
    {
     "data": {
      "text/html": [
       "<div>\n",
       "<style scoped>\n",
       "    .dataframe tbody tr th:only-of-type {\n",
       "        vertical-align: middle;\n",
       "    }\n",
       "\n",
       "    .dataframe tbody tr th {\n",
       "        vertical-align: top;\n",
       "    }\n",
       "\n",
       "    .dataframe thead th {\n",
       "        text-align: right;\n",
       "    }\n",
       "</style>\n",
       "<table border=\"1\" class=\"dataframe\">\n",
       "  <thead>\n",
       "    <tr style=\"text-align: right;\">\n",
       "      <th></th>\n",
       "      <th>sqft_lot</th>\n",
       "      <th>sqft_lot15</th>\n",
       "    </tr>\n",
       "  </thead>\n",
       "  <tbody>\n",
       "    <tr>\n",
       "      <th>count</th>\n",
       "      <td>1.735600e+04</td>\n",
       "      <td>17356.000000</td>\n",
       "    </tr>\n",
       "    <tr>\n",
       "      <th>mean</th>\n",
       "      <td>1.496019e+04</td>\n",
       "      <td>12629.457940</td>\n",
       "    </tr>\n",
       "    <tr>\n",
       "      <th>std</th>\n",
       "      <td>3.873647e+04</td>\n",
       "      <td>26188.942326</td>\n",
       "    </tr>\n",
       "    <tr>\n",
       "      <th>min</th>\n",
       "      <td>5.200000e+02</td>\n",
       "      <td>651.000000</td>\n",
       "    </tr>\n",
       "    <tr>\n",
       "      <th>25%</th>\n",
       "      <td>5.080000e+03</td>\n",
       "      <td>5100.000000</td>\n",
       "    </tr>\n",
       "    <tr>\n",
       "      <th>50%</th>\n",
       "      <td>7.649500e+03</td>\n",
       "      <td>7626.000000</td>\n",
       "    </tr>\n",
       "    <tr>\n",
       "      <th>75%</th>\n",
       "      <td>1.075850e+04</td>\n",
       "      <td>10125.000000</td>\n",
       "    </tr>\n",
       "    <tr>\n",
       "      <th>max</th>\n",
       "      <td>1.074218e+06</td>\n",
       "      <td>871200.000000</td>\n",
       "    </tr>\n",
       "  </tbody>\n",
       "</table>\n",
       "</div>"
      ],
      "text/plain": [
       "           sqft_lot     sqft_lot15\n",
       "count  1.735600e+04   17356.000000\n",
       "mean   1.496019e+04   12629.457940\n",
       "std    3.873647e+04   26188.942326\n",
       "min    5.200000e+02     651.000000\n",
       "25%    5.080000e+03    5100.000000\n",
       "50%    7.649500e+03    7626.000000\n",
       "75%    1.075850e+04   10125.000000\n",
       "max    1.074218e+06  871200.000000"
      ]
     },
     "execution_count": 111,
     "metadata": {},
     "output_type": "execute_result"
    }
   ],
   "source": [
    "df_train[['sqft_lot', 'sqft_lot15']].describe()"
   ]
  },
  {
   "cell_type": "code",
   "execution_count": 112,
   "id": "a48a7389",
   "metadata": {},
   "outputs": [
    {
     "data": {
      "image/png": "[encoded data removed]",
      "text/plain": [
       "<Figure size 864x576 with 6 Axes>"
      ]
     },
     "metadata": {
      "needs_background": "light"
     },
     "output_type": "display_data"
    }
   ],
   "source": [
    "# transformations: noting/identity, sqrt, and log\n",
    "\n",
    "fig, axes = plt.subplots(figsize=(12, 8), nrows=2, ncols=3)  # , sharey=True\n",
    "df_train['sqft_lot'].hist(bins=50, ax=axes[0, 0])\n",
    "axes[0, 0].set_title(\"sqft_lot\")\n",
    "np.sqrt(df_train['sqft_lot']).hist(bins=50, ax=axes[0, 1]);\n",
    "axes[0, 1].set_title(\"sqrt sqft_lot\")\n",
    "np.log(df_train['sqft_lot']).hist(bins=50, ax=axes[0, 2]);\n",
    "axes[0, 2].set_title(\"log sqft_lot\")\n",
    "df_train['sqft_lot15'].hist(bins=50, ax=axes[1, 0])\n",
    "axes[1, 0].set_title(\"sqft_lot15\")\n",
    "np.sqrt(df_train['sqft_lot15']).hist(bins=50, ax=axes[1, 1]);\n",
    "axes[1, 1].set_title(\"sqrt sqft_lot15\")\n",
    "np.log(df_train['sqft_lot15']).hist(bins=50, ax=axes[1, 2]);\n",
    "axes[1, 2].set_title(\"log sqft_lot15\")\n",
    "\n",
    "plt.show()"
   ]
  },
  {
   "cell_type": "code",
   "execution_count": 113,
   "id": "5c3d146c",
   "metadata": {},
   "outputs": [],
   "source": [
    "df_train[\"log_sqft_lot\"] = np.log(df_train['sqft_lot'])\n",
    "df_train[\"log_sqft_lot15\"] = np.log(df_train['sqft_lot15'])"
   ]
  },
  {
   "cell_type": "code",
   "execution_count": 114,
   "id": "1ed5b371",
   "metadata": {},
   "outputs": [
    {
     "data": {
      "text/html": [
       "<div>\n",
       "<style scoped>\n",
       "    .dataframe tbody tr th:only-of-type {\n",
       "        vertical-align: middle;\n",
       "    }\n",
       "\n",
       "    .dataframe tbody tr th {\n",
       "        vertical-align: top;\n",
       "    }\n",
       "\n",
       "    .dataframe thead th {\n",
       "        text-align: right;\n",
       "    }\n",
       "</style>\n",
       "<table border=\"1\" class=\"dataframe\">\n",
       "  <thead>\n",
       "    <tr style=\"text-align: right;\">\n",
       "      <th></th>\n",
       "      <th>sqft_lot</th>\n",
       "      <th>sqft_lot15</th>\n",
       "      <th>log_sqft_lot</th>\n",
       "      <th>log_sqft_lot15</th>\n",
       "      <th>log_price</th>\n",
       "    </tr>\n",
       "  </thead>\n",
       "  <tbody>\n",
       "    <tr>\n",
       "      <th>sqft_lot</th>\n",
       "      <td>1.000000</td>\n",
       "      <td>0.719535</td>\n",
       "      <td>0.657666</td>\n",
       "      <td>0.568386</td>\n",
       "      <td>0.103125</td>\n",
       "    </tr>\n",
       "    <tr>\n",
       "      <th>sqft_lot15</th>\n",
       "      <td>0.719535</td>\n",
       "      <td>1.000000</td>\n",
       "      <td>0.627803</td>\n",
       "      <td>0.705509</td>\n",
       "      <td>0.089937</td>\n",
       "    </tr>\n",
       "    <tr>\n",
       "      <th>log_sqft_lot</th>\n",
       "      <td>0.657666</td>\n",
       "      <td>0.627803</td>\n",
       "      <td>1.000000</td>\n",
       "      <td>0.919223</td>\n",
       "      <td>0.139106</td>\n",
       "    </tr>\n",
       "    <tr>\n",
       "      <th>log_sqft_lot15</th>\n",
       "      <td>0.568386</td>\n",
       "      <td>0.705509</td>\n",
       "      <td>0.919223</td>\n",
       "      <td>1.000000</td>\n",
       "      <td>0.122035</td>\n",
       "    </tr>\n",
       "    <tr>\n",
       "      <th>log_price</th>\n",
       "      <td>0.103125</td>\n",
       "      <td>0.089937</td>\n",
       "      <td>0.139106</td>\n",
       "      <td>0.122035</td>\n",
       "      <td>1.000000</td>\n",
       "    </tr>\n",
       "  </tbody>\n",
       "</table>\n",
       "</div>"
      ],
      "text/plain": [
       "                sqft_lot  sqft_lot15  log_sqft_lot  log_sqft_lot15  log_price\n",
       "sqft_lot        1.000000    0.719535      0.657666        0.568386   0.103125\n",
       "sqft_lot15      0.719535    1.000000      0.627803        0.705509   0.089937\n",
       "log_sqft_lot    0.657666    0.627803      1.000000        0.919223   0.139106\n",
       "log_sqft_lot15  0.568386    0.705509      0.919223        1.000000   0.122035\n",
       "log_price       0.103125    0.089937      0.139106        0.122035   1.000000"
      ]
     },
     "execution_count": 114,
     "metadata": {},
     "output_type": "execute_result"
    }
   ],
   "source": [
    "df_train[[\"sqft_lot\", \"sqft_lot15\", \"log_sqft_lot\", \"log_sqft_lot15\",  \"log_price\"]].corr()"
   ]
  },
  {
   "cell_type": "code",
   "execution_count": 115,
   "id": "dfe723d9",
   "metadata": {
    "scrolled": false
   },
   "outputs": [
    {
     "data": {
      "text/html": [
       "<div>\n",
       "<style scoped>\n",
       "    .dataframe tbody tr th:only-of-type {\n",
       "        vertical-align: middle;\n",
       "    }\n",
       "\n",
       "    .dataframe tbody tr th {\n",
       "        vertical-align: top;\n",
       "    }\n",
       "\n",
       "    .dataframe thead th {\n",
       "        text-align: right;\n",
       "    }\n",
       "</style>\n",
       "<table border=\"1\" class=\"dataframe\">\n",
       "  <thead>\n",
       "    <tr style=\"text-align: right;\">\n",
       "      <th></th>\n",
       "      <th>log_sqft_lot</th>\n",
       "      <th>log_sqft_lot15</th>\n",
       "    </tr>\n",
       "  </thead>\n",
       "  <tbody>\n",
       "    <tr>\n",
       "      <th>count</th>\n",
       "      <td>17356.000000</td>\n",
       "      <td>17356.000000</td>\n",
       "    </tr>\n",
       "    <tr>\n",
       "      <th>mean</th>\n",
       "      <td>8.993636</td>\n",
       "      <td>8.961899</td>\n",
       "    </tr>\n",
       "    <tr>\n",
       "      <th>std</th>\n",
       "      <td>0.900504</td>\n",
       "      <td>0.809447</td>\n",
       "    </tr>\n",
       "    <tr>\n",
       "      <th>min</th>\n",
       "      <td>6.253829</td>\n",
       "      <td>6.478510</td>\n",
       "    </tr>\n",
       "    <tr>\n",
       "      <th>25%</th>\n",
       "      <td>8.533067</td>\n",
       "      <td>8.536996</td>\n",
       "    </tr>\n",
       "    <tr>\n",
       "      <th>50%</th>\n",
       "      <td>8.942396</td>\n",
       "      <td>8.939319</td>\n",
       "    </tr>\n",
       "    <tr>\n",
       "      <th>75%</th>\n",
       "      <td>9.283451</td>\n",
       "      <td>9.222763</td>\n",
       "    </tr>\n",
       "    <tr>\n",
       "      <th>max</th>\n",
       "      <td>13.887104</td>\n",
       "      <td>13.677627</td>\n",
       "    </tr>\n",
       "  </tbody>\n",
       "</table>\n",
       "</div>"
      ],
      "text/plain": [
       "       log_sqft_lot  log_sqft_lot15\n",
       "count  17356.000000    17356.000000\n",
       "mean       8.993636        8.961899\n",
       "std        0.900504        0.809447\n",
       "min        6.253829        6.478510\n",
       "25%        8.533067        8.536996\n",
       "50%        8.942396        8.939319\n",
       "75%        9.283451        9.222763\n",
       "max       13.887104       13.677627"
      ]
     },
     "execution_count": 115,
     "metadata": {},
     "output_type": "execute_result"
    }
   ],
   "source": [
    "df_train[[\"log_sqft_lot\", \"log_sqft_lot15\"]].describe()"
   ]
  },
  {
   "cell_type": "markdown",
   "id": "5e422090",
   "metadata": {},
   "source": [
    "### sqft_above\n",
    "* check transformations- log/sqrt"
   ]
  },
  {
   "cell_type": "code",
   "execution_count": 116,
   "id": "38e8cd2c",
   "metadata": {
    "scrolled": true
   },
   "outputs": [
    {
     "data": {
      "image/png": "[encoded data removed]",
      "text/plain": [
       "<Figure size 1008x288 with 3 Axes>"
      ]
     },
     "metadata": {
      "needs_background": "light"
     },
     "output_type": "display_data"
    }
   ],
   "source": [
    "# transformations: noting/identity, sqrt, and log\n",
    "\n",
    "fig, axes = plt.subplots(figsize=(14, 4), ncols=3)  # , sharey=True\n",
    "df_train['sqft_above'].hist(bins=50, ax=axes[0])\n",
    "axes[0].set_title(\"sqft_above\")\n",
    "np.sqrt(df_train['sqft_above']).hist(bins=50, ax=axes[1]);\n",
    "axes[1].set_title(\"sqrt sqft_above\")\n",
    "np.log(df_train['sqft_above']).hist(bins=50, ax=axes[2]);\n",
    "axes[2].set_title(\"log sqft_above\")\n",
    "\n",
    "plt.show()"
   ]
  },
  {
   "cell_type": "code",
   "execution_count": 117,
   "id": "3155dcdf",
   "metadata": {},
   "outputs": [],
   "source": [
    "df_train[\"sqrt_sqft_above\"] = np.sqrt(df_train['sqft_above'])\n",
    "df_train[\"log_sqft_above\"] = np.log(df_train['sqft_above'])"
   ]
  },
  {
   "cell_type": "code",
   "execution_count": 118,
   "id": "fd002b3a",
   "metadata": {},
   "outputs": [
    {
     "data": {
      "text/html": [
       "<div>\n",
       "<style scoped>\n",
       "    .dataframe tbody tr th:only-of-type {\n",
       "        vertical-align: middle;\n",
       "    }\n",
       "\n",
       "    .dataframe tbody tr th {\n",
       "        vertical-align: top;\n",
       "    }\n",
       "\n",
       "    .dataframe thead th {\n",
       "        text-align: right;\n",
       "    }\n",
       "</style>\n",
       "<table border=\"1\" class=\"dataframe\">\n",
       "  <thead>\n",
       "    <tr style=\"text-align: right;\">\n",
       "      <th></th>\n",
       "      <th>sqft_above</th>\n",
       "      <th>sqrt_sqft_above</th>\n",
       "      <th>log_sqft_above</th>\n",
       "    </tr>\n",
       "  </thead>\n",
       "  <tbody>\n",
       "    <tr>\n",
       "      <th>count</th>\n",
       "      <td>17356.000000</td>\n",
       "      <td>17356.000000</td>\n",
       "      <td>17356.000000</td>\n",
       "    </tr>\n",
       "    <tr>\n",
       "      <th>mean</th>\n",
       "      <td>1795.060094</td>\n",
       "      <td>41.363521</td>\n",
       "      <td>7.398069</td>\n",
       "    </tr>\n",
       "    <tr>\n",
       "      <th>std</th>\n",
       "      <td>834.672945</td>\n",
       "      <td>9.171917</td>\n",
       "      <td>0.428767</td>\n",
       "    </tr>\n",
       "    <tr>\n",
       "      <th>min</th>\n",
       "      <td>290.000000</td>\n",
       "      <td>17.029386</td>\n",
       "      <td>5.669881</td>\n",
       "    </tr>\n",
       "    <tr>\n",
       "      <th>25%</th>\n",
       "      <td>1200.000000</td>\n",
       "      <td>34.641016</td>\n",
       "      <td>7.090077</td>\n",
       "    </tr>\n",
       "    <tr>\n",
       "      <th>50%</th>\n",
       "      <td>1570.000000</td>\n",
       "      <td>39.623226</td>\n",
       "      <td>7.358831</td>\n",
       "    </tr>\n",
       "    <tr>\n",
       "      <th>75%</th>\n",
       "      <td>2220.000000</td>\n",
       "      <td>47.116876</td>\n",
       "      <td>7.705262</td>\n",
       "    </tr>\n",
       "    <tr>\n",
       "      <th>max</th>\n",
       "      <td>9410.000000</td>\n",
       "      <td>97.005155</td>\n",
       "      <td>9.149528</td>\n",
       "    </tr>\n",
       "  </tbody>\n",
       "</table>\n",
       "</div>"
      ],
      "text/plain": [
       "         sqft_above  sqrt_sqft_above  log_sqft_above\n",
       "count  17356.000000     17356.000000    17356.000000\n",
       "mean    1795.060094        41.363521        7.398069\n",
       "std      834.672945         9.171917        0.428767\n",
       "min      290.000000        17.029386        5.669881\n",
       "25%     1200.000000        34.641016        7.090077\n",
       "50%     1570.000000        39.623226        7.358831\n",
       "75%     2220.000000        47.116876        7.705262\n",
       "max     9410.000000        97.005155        9.149528"
      ]
     },
     "execution_count": 118,
     "metadata": {},
     "output_type": "execute_result"
    }
   ],
   "source": [
    "df_train[[\"sqft_above\", \"sqrt_sqft_above\", \"log_sqft_above\"]].describe()"
   ]
  },
  {
   "cell_type": "code",
   "execution_count": 119,
   "id": "9311e36e",
   "metadata": {},
   "outputs": [
    {
     "data": {
      "text/html": [
       "<div>\n",
       "<style scoped>\n",
       "    .dataframe tbody tr th:only-of-type {\n",
       "        vertical-align: middle;\n",
       "    }\n",
       "\n",
       "    .dataframe tbody tr th {\n",
       "        vertical-align: top;\n",
       "    }\n",
       "\n",
       "    .dataframe thead th {\n",
       "        text-align: right;\n",
       "    }\n",
       "</style>\n",
       "<table border=\"1\" class=\"dataframe\">\n",
       "  <thead>\n",
       "    <tr style=\"text-align: right;\">\n",
       "      <th></th>\n",
       "      <th>sqft_above</th>\n",
       "      <th>sqrt_sqft_above</th>\n",
       "      <th>log_sqft_above</th>\n",
       "      <th>log_price</th>\n",
       "    </tr>\n",
       "  </thead>\n",
       "  <tbody>\n",
       "    <tr>\n",
       "      <th>sqft_above</th>\n",
       "      <td>1.000000</td>\n",
       "      <td>0.989825</td>\n",
       "      <td>0.961435</td>\n",
       "      <td>0.608516</td>\n",
       "    </tr>\n",
       "    <tr>\n",
       "      <th>sqrt_sqft_above</th>\n",
       "      <td>0.989825</td>\n",
       "      <td>1.000000</td>\n",
       "      <td>0.990497</td>\n",
       "      <td>0.605916</td>\n",
       "    </tr>\n",
       "    <tr>\n",
       "      <th>log_sqft_above</th>\n",
       "      <td>0.961435</td>\n",
       "      <td>0.990497</td>\n",
       "      <td>1.000000</td>\n",
       "      <td>0.592497</td>\n",
       "    </tr>\n",
       "    <tr>\n",
       "      <th>log_price</th>\n",
       "      <td>0.608516</td>\n",
       "      <td>0.605916</td>\n",
       "      <td>0.592497</td>\n",
       "      <td>1.000000</td>\n",
       "    </tr>\n",
       "  </tbody>\n",
       "</table>\n",
       "</div>"
      ],
      "text/plain": [
       "                 sqft_above  sqrt_sqft_above  log_sqft_above  log_price\n",
       "sqft_above         1.000000         0.989825        0.961435   0.608516\n",
       "sqrt_sqft_above    0.989825         1.000000        0.990497   0.605916\n",
       "log_sqft_above     0.961435         0.990497        1.000000   0.592497\n",
       "log_price          0.608516         0.605916        0.592497   1.000000"
      ]
     },
     "execution_count": 119,
     "metadata": {},
     "output_type": "execute_result"
    }
   ],
   "source": [
    "df_train[[\"sqft_above\", \"sqrt_sqft_above\", \"log_sqft_above\", \"log_price\"]].corr()"
   ]
  },
  {
   "cell_type": "markdown",
   "id": "07808e87",
   "metadata": {},
   "source": [
    "### sqft_basement\n",
    "* check transformations- log/sqrt\n",
    "* check indicator- has basement"
   ]
  },
  {
   "cell_type": "code",
   "execution_count": 71,
   "id": "c51d714e",
   "metadata": {},
   "outputs": [],
   "source": [
    "df_train[\"has_basement\"] = (df_train[\"sqft_basement\"] > 0).astype(\"int\")"
   ]
  },
  {
   "cell_type": "code",
   "execution_count": 264,
   "id": "74568f06",
   "metadata": {
    "scrolled": false
   },
   "outputs": [
    {
     "name": "stdout",
     "output_type": "stream",
     "text": [
      "0       0.607052\n",
      "600     0.010141\n",
      "700     0.009910\n",
      "800     0.009910\n",
      "500     0.009737\n",
      "          ...   \n",
      "2500    0.000058\n",
      "4820    0.000058\n",
      "2350    0.000058\n",
      "2490    0.000058\n",
      "274     0.000058\n",
      "Name: sqft_basement, Length: 288, dtype: float64\n"
     ]
    },
    {
     "data": {
      "image/png": "[encoded data removed]",
      "text/plain": [
       "<Figure size 432x288 with 1 Axes>"
      ]
     },
     "metadata": {
      "needs_background": "light"
     },
     "output_type": "display_data"
    }
   ],
   "source": [
    "print(df_train['sqft_basement'].value_counts(normalize=True))\n",
    "df_train['sqft_basement'].hist(bins=50);"
   ]
  },
  {
   "cell_type": "code",
   "execution_count": 120,
   "id": "2390f40d",
   "metadata": {},
   "outputs": [
    {
     "data": {
      "image/png": "[encoded data removed]",
      "text/plain": [
       "<Figure size 1008x288 with 3 Axes>"
      ]
     },
     "metadata": {
      "needs_background": "light"
     },
     "output_type": "display_data"
    }
   ],
   "source": [
    "fig, axes = plt.subplots(figsize=(14, 4), ncols=3)  # , sharey=True\n",
    "df_train.loc[df_train['sqft_basement'] > 0, 'sqft_basement'].hist(bins=50, ax=axes[0])\n",
    "axes[0].set_title(\"sqft_basement\")\n",
    "np.sqrt(df_train.loc[df_train['sqft_basement'] > 0, 'sqft_basement']).hist(bins=50, ax=axes[1]);\n",
    "axes[1].set_title(\"sqrt sqft_basement\")\n",
    "np.log(df_train.loc[df_train['sqft_basement'] > 0, 'sqft_basement']).hist(bins=50, ax=axes[2]);\n",
    "axes[2].set_title(\"log sqft_basement\")\n",
    "\n",
    "plt.show()"
   ]
  },
  {
   "cell_type": "code",
   "execution_count": 121,
   "id": "03813238",
   "metadata": {},
   "outputs": [],
   "source": [
    "df_train[\"sqrt_sqft_basement\"] = np.sqrt(df_train['sqft_basement'])"
   ]
  },
  {
   "cell_type": "code",
   "execution_count": 123,
   "id": "dbd9f1b9",
   "metadata": {
    "scrolled": false
   },
   "outputs": [
    {
     "data": {
      "text/html": [
       "<div>\n",
       "<style scoped>\n",
       "    .dataframe tbody tr th:only-of-type {\n",
       "        vertical-align: middle;\n",
       "    }\n",
       "\n",
       "    .dataframe tbody tr th {\n",
       "        vertical-align: top;\n",
       "    }\n",
       "\n",
       "    .dataframe thead th {\n",
       "        text-align: right;\n",
       "    }\n",
       "</style>\n",
       "<table border=\"1\" class=\"dataframe\">\n",
       "  <thead>\n",
       "    <tr style=\"text-align: right;\">\n",
       "      <th></th>\n",
       "      <th>sqft_basement</th>\n",
       "      <th>sqrt_sqft_basement</th>\n",
       "    </tr>\n",
       "  </thead>\n",
       "  <tbody>\n",
       "    <tr>\n",
       "      <th>count</th>\n",
       "      <td>17356.000000</td>\n",
       "      <td>17356.000000</td>\n",
       "    </tr>\n",
       "    <tr>\n",
       "      <th>mean</th>\n",
       "      <td>293.559115</td>\n",
       "      <td>10.325991</td>\n",
       "    </tr>\n",
       "    <tr>\n",
       "      <th>std</th>\n",
       "      <td>445.957352</td>\n",
       "      <td>13.672739</td>\n",
       "    </tr>\n",
       "    <tr>\n",
       "      <th>min</th>\n",
       "      <td>0.000000</td>\n",
       "      <td>0.000000</td>\n",
       "    </tr>\n",
       "    <tr>\n",
       "      <th>25%</th>\n",
       "      <td>0.000000</td>\n",
       "      <td>0.000000</td>\n",
       "    </tr>\n",
       "    <tr>\n",
       "      <th>50%</th>\n",
       "      <td>0.000000</td>\n",
       "      <td>0.000000</td>\n",
       "    </tr>\n",
       "    <tr>\n",
       "      <th>75%</th>\n",
       "      <td>570.000000</td>\n",
       "      <td>23.874673</td>\n",
       "    </tr>\n",
       "    <tr>\n",
       "      <th>max</th>\n",
       "      <td>4820.000000</td>\n",
       "      <td>69.426220</td>\n",
       "    </tr>\n",
       "  </tbody>\n",
       "</table>\n",
       "</div>"
      ],
      "text/plain": [
       "       sqft_basement  sqrt_sqft_basement\n",
       "count   17356.000000        17356.000000\n",
       "mean      293.559115           10.325991\n",
       "std       445.957352           13.672739\n",
       "min         0.000000            0.000000\n",
       "25%         0.000000            0.000000\n",
       "50%         0.000000            0.000000\n",
       "75%       570.000000           23.874673\n",
       "max      4820.000000           69.426220"
      ]
     },
     "execution_count": 123,
     "metadata": {},
     "output_type": "execute_result"
    }
   ],
   "source": [
    "df_train[[\"sqft_basement\", \"sqrt_sqft_basement\"]].describe()"
   ]
  },
  {
   "cell_type": "code",
   "execution_count": 122,
   "id": "8259ae9f",
   "metadata": {
    "scrolled": true
   },
   "outputs": [
    {
     "data": {
      "text/html": [
       "<div>\n",
       "<style scoped>\n",
       "    .dataframe tbody tr th:only-of-type {\n",
       "        vertical-align: middle;\n",
       "    }\n",
       "\n",
       "    .dataframe tbody tr th {\n",
       "        vertical-align: top;\n",
       "    }\n",
       "\n",
       "    .dataframe thead th {\n",
       "        text-align: right;\n",
       "    }\n",
       "</style>\n",
       "<table border=\"1\" class=\"dataframe\">\n",
       "  <thead>\n",
       "    <tr style=\"text-align: right;\">\n",
       "      <th></th>\n",
       "      <th>sqft_basement</th>\n",
       "      <th>sqrt_sqft_basement</th>\n",
       "      <th>log_price</th>\n",
       "    </tr>\n",
       "  </thead>\n",
       "  <tbody>\n",
       "    <tr>\n",
       "      <th>sqft_basement</th>\n",
       "      <td>1.000000</td>\n",
       "      <td>0.961898</td>\n",
       "      <td>0.317513</td>\n",
       "    </tr>\n",
       "    <tr>\n",
       "      <th>sqrt_sqft_basement</th>\n",
       "      <td>0.961898</td>\n",
       "      <td>1.000000</td>\n",
       "      <td>0.279222</td>\n",
       "    </tr>\n",
       "    <tr>\n",
       "      <th>log_price</th>\n",
       "      <td>0.317513</td>\n",
       "      <td>0.279222</td>\n",
       "      <td>1.000000</td>\n",
       "    </tr>\n",
       "  </tbody>\n",
       "</table>\n",
       "</div>"
      ],
      "text/plain": [
       "                    sqft_basement  sqrt_sqft_basement  log_price\n",
       "sqft_basement            1.000000            0.961898   0.317513\n",
       "sqrt_sqft_basement       0.961898            1.000000   0.279222\n",
       "log_price                0.317513            0.279222   1.000000"
      ]
     },
     "execution_count": 122,
     "metadata": {},
     "output_type": "execute_result"
    }
   ],
   "source": [
    "df_train[[\"sqft_basement\", \"sqrt_sqft_basement\", \"log_price\"]].corr()"
   ]
  },
  {
   "cell_type": "code",
   "execution_count": 126,
   "id": "df18a2fd",
   "metadata": {},
   "outputs": [
    {
     "data": {
      "text/html": [
       "<div>\n",
       "<style scoped>\n",
       "    .dataframe tbody tr th:only-of-type {\n",
       "        vertical-align: middle;\n",
       "    }\n",
       "\n",
       "    .dataframe tbody tr th {\n",
       "        vertical-align: top;\n",
       "    }\n",
       "\n",
       "    .dataframe thead th {\n",
       "        text-align: right;\n",
       "    }\n",
       "</style>\n",
       "<table border=\"1\" class=\"dataframe\">\n",
       "  <thead>\n",
       "    <tr style=\"text-align: right;\">\n",
       "      <th></th>\n",
       "      <th>sqft_basement</th>\n",
       "      <th>sqrt_sqft_basement</th>\n",
       "      <th>log_price</th>\n",
       "    </tr>\n",
       "  </thead>\n",
       "  <tbody>\n",
       "    <tr>\n",
       "      <th>sqft_basement</th>\n",
       "      <td>1.000000</td>\n",
       "      <td>0.978125</td>\n",
       "      <td>0.406638</td>\n",
       "    </tr>\n",
       "    <tr>\n",
       "      <th>sqrt_sqft_basement</th>\n",
       "      <td>0.978125</td>\n",
       "      <td>1.000000</td>\n",
       "      <td>0.378493</td>\n",
       "    </tr>\n",
       "    <tr>\n",
       "      <th>log_price</th>\n",
       "      <td>0.406638</td>\n",
       "      <td>0.378493</td>\n",
       "      <td>1.000000</td>\n",
       "    </tr>\n",
       "  </tbody>\n",
       "</table>\n",
       "</div>"
      ],
      "text/plain": [
       "                    sqft_basement  sqrt_sqft_basement  log_price\n",
       "sqft_basement            1.000000            0.978125   0.406638\n",
       "sqrt_sqft_basement       0.978125            1.000000   0.378493\n",
       "log_price                0.406638            0.378493   1.000000"
      ]
     },
     "execution_count": 126,
     "metadata": {},
     "output_type": "execute_result"
    }
   ],
   "source": [
    "df_train.loc[df_train[\"sqft_basement\"] > 0, [\"sqft_basement\", \"sqrt_sqft_basement\", \"log_price\"]].corr()"
   ]
  },
  {
   "cell_type": "markdown",
   "id": "384b9b6d",
   "metadata": {},
   "source": [
    "### yr_built\n",
    "* **house_age**: check transformations- reverse + sqrt/log"
   ]
  },
  {
   "cell_type": "code",
   "execution_count": 134,
   "id": "a1adb950",
   "metadata": {
    "scrolled": false
   },
   "outputs": [
    {
     "name": "stdout",
     "output_type": "stream",
     "text": [
      "count    17356.000000\n",
      "mean      1971.037221\n",
      "std         29.355197\n",
      "min       1900.000000\n",
      "25%       1951.000000\n",
      "50%       1975.000000\n",
      "75%       1997.000000\n",
      "max       2015.000000\n",
      "Name: yr_built, dtype: float64\n"
     ]
    },
    {
     "data": {
      "text/plain": [
       "<AxesSubplot: >"
      ]
     },
     "execution_count": 134,
     "metadata": {},
     "output_type": "execute_result"
    },
    {
     "data": {
      "image/png": "[encoded data removed]",
      "text/plain": [
       "<Figure size 432x288 with 1 Axes>"
      ]
     },
     "metadata": {
      "needs_background": "light"
     },
     "output_type": "display_data"
    }
   ],
   "source": [
    "print(df_train['yr_built'].describe())\n",
    "df_train['yr_built'].hist(bins=50)"
   ]
  },
  {
   "cell_type": "code",
   "execution_count": 141,
   "id": "e63cee3f",
   "metadata": {},
   "outputs": [],
   "source": [
    "df_train[\"house_age\"] = df_train['yr_built'].max() - df_train['yr_built']"
   ]
  },
  {
   "cell_type": "code",
   "execution_count": 197,
   "id": "a38097bf",
   "metadata": {},
   "outputs": [
    {
     "data": {
      "image/png": "[encoded data removed]",
      "text/plain": [
       "<Figure size 1008x288 with 3 Axes>"
      ]
     },
     "metadata": {
      "needs_background": "light"
     },
     "output_type": "display_data"
    }
   ],
   "source": [
    "fig, axes = plt.subplots(figsize=(14, 4), ncols=3)  # , sharey=True\n",
    "df_train['yr_built'].hist(bins=50, ax=axes[0])\n",
    "axes[0].set_title(\"yr_built\")\n",
    "np.sqrt(df_train['yr_built']).hist(bins=50, ax=axes[1]);\n",
    "axes[1].set_title(\"sqrt yr_built\")\n",
    "# np.log(df_train['house_age']).hist(bins=50, ax=axes[2]);\n",
    "df_train['yr_built'].transform(lambda el: np.log(el) if el > 0 else el).hist(bins=50, ax=axes[2]);\n",
    "axes[2].set_title(\"log yr_built\")\n",
    "\n",
    "plt.show()"
   ]
  },
  {
   "cell_type": "code",
   "execution_count": 145,
   "id": "c3bacf38",
   "metadata": {
    "scrolled": true
   },
   "outputs": [
    {
     "data": {
      "image/png": "[encoded data removed]",
      "text/plain": [
       "<Figure size 1008x288 with 3 Axes>"
      ]
     },
     "metadata": {
      "needs_background": "light"
     },
     "output_type": "display_data"
    }
   ],
   "source": [
    "fig, axes = plt.subplots(figsize=(14, 4), ncols=3)  # , sharey=True\n",
    "df_train['house_age'].hist(bins=50, ax=axes[0])\n",
    "axes[0].set_title(\"house_age\")\n",
    "np.sqrt(df_train['house_age']).hist(bins=50, ax=axes[1]);\n",
    "axes[1].set_title(\"sqrt house_age\")\n",
    "# np.log(df_train['house_age']).hist(bins=50, ax=axes[2]);\n",
    "df_train['house_age'].transform(lambda el: np.log(el) if el > 0 else el).hist(bins=50, ax=axes[2]);\n",
    "axes[2].set_title(\"log house_age\")\n",
    "\n",
    "plt.show()"
   ]
  },
  {
   "cell_type": "code",
   "execution_count": 147,
   "id": "9fdf9012",
   "metadata": {},
   "outputs": [],
   "source": [
    "df_train['sqrt_house_age'] = np.sqrt(df_train['house_age'])"
   ]
  },
  {
   "cell_type": "code",
   "execution_count": 148,
   "id": "ff40902e",
   "metadata": {},
   "outputs": [
    {
     "data": {
      "text/html": [
       "<div>\n",
       "<style scoped>\n",
       "    .dataframe tbody tr th:only-of-type {\n",
       "        vertical-align: middle;\n",
       "    }\n",
       "\n",
       "    .dataframe tbody tr th {\n",
       "        vertical-align: top;\n",
       "    }\n",
       "\n",
       "    .dataframe thead th {\n",
       "        text-align: right;\n",
       "    }\n",
       "</style>\n",
       "<table border=\"1\" class=\"dataframe\">\n",
       "  <thead>\n",
       "    <tr style=\"text-align: right;\">\n",
       "      <th></th>\n",
       "      <th>condition</th>\n",
       "      <th>yr_built</th>\n",
       "      <th>sqrt_house_age</th>\n",
       "      <th>log_price</th>\n",
       "    </tr>\n",
       "  </thead>\n",
       "  <tbody>\n",
       "    <tr>\n",
       "      <th>condition</th>\n",
       "      <td>1.000000</td>\n",
       "      <td>-0.372003</td>\n",
       "      <td>0.392135</td>\n",
       "      <td>0.043734</td>\n",
       "    </tr>\n",
       "    <tr>\n",
       "      <th>yr_built</th>\n",
       "      <td>-0.372003</td>\n",
       "      <td>1.000000</td>\n",
       "      <td>-0.975687</td>\n",
       "      <td>0.083828</td>\n",
       "    </tr>\n",
       "    <tr>\n",
       "      <th>sqrt_house_age</th>\n",
       "      <td>0.392135</td>\n",
       "      <td>-0.975687</td>\n",
       "      <td>1.000000</td>\n",
       "      <td>-0.119494</td>\n",
       "    </tr>\n",
       "    <tr>\n",
       "      <th>log_price</th>\n",
       "      <td>0.043734</td>\n",
       "      <td>0.083828</td>\n",
       "      <td>-0.119494</td>\n",
       "      <td>1.000000</td>\n",
       "    </tr>\n",
       "  </tbody>\n",
       "</table>\n",
       "</div>"
      ],
      "text/plain": [
       "                condition  yr_built  sqrt_house_age  log_price\n",
       "condition        1.000000 -0.372003        0.392135   0.043734\n",
       "yr_built        -0.372003  1.000000       -0.975687   0.083828\n",
       "sqrt_house_age   0.392135 -0.975687        1.000000  -0.119494\n",
       "log_price        0.043734  0.083828       -0.119494   1.000000"
      ]
     },
     "execution_count": 148,
     "metadata": {},
     "output_type": "execute_result"
    }
   ],
   "source": [
    "df_train[[\"condition\", \"yr_built\", \"sqrt_house_age\", \"log_price\"]].corr()"
   ]
  },
  {
   "cell_type": "markdown",
   "id": "b0feb94d",
   "metadata": {},
   "source": [
    "### yr_renovated\n",
    "* check if informative"
   ]
  },
  {
   "cell_type": "code",
   "execution_count": 149,
   "id": "d642bd9b",
   "metadata": {
    "scrolled": false
   },
   "outputs": [
    {
     "name": "stdout",
     "output_type": "stream",
     "text": [
      "0       0.956614\n",
      "2014    0.004782\n",
      "2013    0.001844\n",
      "2003    0.001729\n",
      "2000    0.001556\n",
      "Name: yr_renovated, dtype: float64\n"
     ]
    }
   ],
   "source": [
    "# binary or remove\n",
    "print(df_train['yr_renovated'].value_counts(normalize=True).head())"
   ]
  },
  {
   "cell_type": "code",
   "execution_count": 80,
   "id": "2a80251d",
   "metadata": {},
   "outputs": [
    {
     "data": {
      "text/html": [
       "<div>\n",
       "<style scoped>\n",
       "    .dataframe tbody tr th:only-of-type {\n",
       "        vertical-align: middle;\n",
       "    }\n",
       "\n",
       "    .dataframe tbody tr th {\n",
       "        vertical-align: top;\n",
       "    }\n",
       "\n",
       "    .dataframe thead th {\n",
       "        text-align: right;\n",
       "    }\n",
       "</style>\n",
       "<table border=\"1\" class=\"dataframe\">\n",
       "  <thead>\n",
       "    <tr style=\"text-align: right;\">\n",
       "      <th></th>\n",
       "      <th>sqft_living</th>\n",
       "      <th>sqft_living15</th>\n",
       "      <th>sqft_above</th>\n",
       "      <th>yr_built</th>\n",
       "      <th>yr_renovated</th>\n",
       "      <th>log_price</th>\n",
       "    </tr>\n",
       "  </thead>\n",
       "  <tbody>\n",
       "    <tr>\n",
       "      <th>sqft_living</th>\n",
       "      <td>1.000000</td>\n",
       "      <td>0.767360</td>\n",
       "      <td>0.875633</td>\n",
       "      <td>0.345444</td>\n",
       "      <td>0.044388</td>\n",
       "      <td>0.675028</td>\n",
       "    </tr>\n",
       "    <tr>\n",
       "      <th>sqft_living15</th>\n",
       "      <td>0.767360</td>\n",
       "      <td>1.000000</td>\n",
       "      <td>0.733590</td>\n",
       "      <td>0.318946</td>\n",
       "      <td>-0.002233</td>\n",
       "      <td>0.610485</td>\n",
       "    </tr>\n",
       "    <tr>\n",
       "      <th>sqft_above</th>\n",
       "      <td>0.875633</td>\n",
       "      <td>0.733590</td>\n",
       "      <td>1.000000</td>\n",
       "      <td>0.443997</td>\n",
       "      <td>0.013394</td>\n",
       "      <td>0.577359</td>\n",
       "    </tr>\n",
       "    <tr>\n",
       "      <th>yr_built</th>\n",
       "      <td>0.345444</td>\n",
       "      <td>0.318946</td>\n",
       "      <td>0.443997</td>\n",
       "      <td>1.000000</td>\n",
       "      <td>-0.208912</td>\n",
       "      <td>0.068080</td>\n",
       "    </tr>\n",
       "    <tr>\n",
       "      <th>yr_renovated</th>\n",
       "      <td>0.044388</td>\n",
       "      <td>-0.002233</td>\n",
       "      <td>0.013394</td>\n",
       "      <td>-0.208912</td>\n",
       "      <td>1.000000</td>\n",
       "      <td>0.096781</td>\n",
       "    </tr>\n",
       "    <tr>\n",
       "      <th>log_price</th>\n",
       "      <td>0.675028</td>\n",
       "      <td>0.610485</td>\n",
       "      <td>0.577359</td>\n",
       "      <td>0.068080</td>\n",
       "      <td>0.096781</td>\n",
       "      <td>1.000000</td>\n",
       "    </tr>\n",
       "  </tbody>\n",
       "</table>\n",
       "</div>"
      ],
      "text/plain": [
       "               sqft_living  sqft_living15  sqft_above  yr_built  yr_renovated  \\\n",
       "sqft_living       1.000000       0.767360    0.875633  0.345444      0.044388   \n",
       "sqft_living15     0.767360       1.000000    0.733590  0.318946     -0.002233   \n",
       "sqft_above        0.875633       0.733590    1.000000  0.443997      0.013394   \n",
       "yr_built          0.345444       0.318946    0.443997  1.000000     -0.208912   \n",
       "yr_renovated      0.044388      -0.002233    0.013394 -0.208912      1.000000   \n",
       "log_price         0.675028       0.610485    0.577359  0.068080      0.096781   \n",
       "\n",
       "               log_price  \n",
       "sqft_living     0.675028  \n",
       "sqft_living15   0.610485  \n",
       "sqft_above      0.577359  \n",
       "yr_built        0.068080  \n",
       "yr_renovated    0.096781  \n",
       "log_price       1.000000  "
      ]
     },
     "execution_count": 80,
     "metadata": {},
     "output_type": "execute_result"
    }
   ],
   "source": [
    "# remove\n",
    "df_train[[\"sqft_living\", \"sqft_living15\", \"sqft_above\", \"yr_built\", \"yr_renovated\", \"log_price\"]].corr()"
   ]
  },
  {
   "cell_type": "markdown",
   "id": "cf74cdc5",
   "metadata": {},
   "source": [
    "### lat/long\n",
    "* check if informative enough\n",
    "* problematic distributions -> removed"
   ]
  },
  {
   "cell_type": "code",
   "execution_count": 161,
   "id": "1b8e5356",
   "metadata": {
    "scrolled": true
   },
   "outputs": [
    {
     "data": {
      "text/html": [
       "<div>\n",
       "<style scoped>\n",
       "    .dataframe tbody tr th:only-of-type {\n",
       "        vertical-align: middle;\n",
       "    }\n",
       "\n",
       "    .dataframe tbody tr th {\n",
       "        vertical-align: top;\n",
       "    }\n",
       "\n",
       "    .dataframe thead th {\n",
       "        text-align: right;\n",
       "    }\n",
       "</style>\n",
       "<table border=\"1\" class=\"dataframe\">\n",
       "  <thead>\n",
       "    <tr style=\"text-align: right;\">\n",
       "      <th></th>\n",
       "      <th>lat</th>\n",
       "      <th>long</th>\n",
       "    </tr>\n",
       "  </thead>\n",
       "  <tbody>\n",
       "    <tr>\n",
       "      <th>count</th>\n",
       "      <td>17356.000000</td>\n",
       "      <td>17356.000000</td>\n",
       "    </tr>\n",
       "    <tr>\n",
       "      <th>mean</th>\n",
       "      <td>47.560776</td>\n",
       "      <td>-122.213941</td>\n",
       "    </tr>\n",
       "    <tr>\n",
       "      <th>std</th>\n",
       "      <td>0.138649</td>\n",
       "      <td>0.140971</td>\n",
       "    </tr>\n",
       "    <tr>\n",
       "      <th>min</th>\n",
       "      <td>47.155900</td>\n",
       "      <td>-122.519000</td>\n",
       "    </tr>\n",
       "    <tr>\n",
       "      <th>25%</th>\n",
       "      <td>47.472500</td>\n",
       "      <td>-122.328000</td>\n",
       "    </tr>\n",
       "    <tr>\n",
       "      <th>50%</th>\n",
       "      <td>47.573850</td>\n",
       "      <td>-122.231000</td>\n",
       "    </tr>\n",
       "    <tr>\n",
       "      <th>75%</th>\n",
       "      <td>47.678500</td>\n",
       "      <td>-122.125000</td>\n",
       "    </tr>\n",
       "    <tr>\n",
       "      <th>max</th>\n",
       "      <td>47.777600</td>\n",
       "      <td>-121.315000</td>\n",
       "    </tr>\n",
       "  </tbody>\n",
       "</table>\n",
       "</div>"
      ],
      "text/plain": [
       "                lat          long\n",
       "count  17356.000000  17356.000000\n",
       "mean      47.560776   -122.213941\n",
       "std        0.138649      0.140971\n",
       "min       47.155900   -122.519000\n",
       "25%       47.472500   -122.328000\n",
       "50%       47.573850   -122.231000\n",
       "75%       47.678500   -122.125000\n",
       "max       47.777600   -121.315000"
      ]
     },
     "execution_count": 161,
     "metadata": {},
     "output_type": "execute_result"
    }
   ],
   "source": [
    "df_train[[\"lat\", \"long\"]].describe()"
   ]
  },
  {
   "cell_type": "code",
   "execution_count": 156,
   "id": "b1afdbbd",
   "metadata": {
    "scrolled": true
   },
   "outputs": [
    {
     "data": {
      "image/png": "[encoded data removed]",
      "text/plain": [
       "<Figure size 720x288 with 2 Axes>"
      ]
     },
     "metadata": {
      "needs_background": "light"
     },
     "output_type": "display_data"
    }
   ],
   "source": [
    "fig, axes = plt.subplots(figsize=(10, 4), ncols=2)\n",
    "sns.histplot(data=df_train, x='lat', kde=True, ax=axes[0]);\n",
    "sns.histplot(data=df_train, x='long', kde=True, ax=axes[1]);\n",
    "# fig, axes = plt.subplots(figsize=(10, 4), ncols=2)\n",
    "# df_train['grade'].hist(bins=30, ax=axes[0]);\n",
    "# df_train['grouped_grade'].hist(bins=30, ax=axes[1]);\n",
    "axes[0].set_title(\"Latitude\")\n",
    "axes[1].set_title(\"Longitude\")\n",
    "plt.show()"
   ]
  },
  {
   "cell_type": "code",
   "execution_count": 215,
   "id": "a8326a82",
   "metadata": {},
   "outputs": [
    {
     "data": {
      "text/plain": [
       "<AxesSubplot: xlabel='long', ylabel='Count'>"
      ]
     },
     "execution_count": 215,
     "metadata": {},
     "output_type": "execute_result"
    },
    {
     "data": {
      "image/png": "[encoded data removed]",
      "text/plain": [
       "<Figure size 432x288 with 1 Axes>"
      ]
     },
     "metadata": {
      "needs_background": "light"
     },
     "output_type": "display_data"
    }
   ],
   "source": [
    "sns.histplot(np.sqrt(df_train[\"long\"] - df_train[\"long\"].min()), kde=True)"
   ]
  },
  {
   "cell_type": "code",
   "execution_count": 207,
   "id": "0c4570ff",
   "metadata": {},
   "outputs": [
    {
     "data": {
      "image/png": "[encoded data removed]",
      "text/plain": [
       "<Figure size 720x288 with 2 Axes>"
      ]
     },
     "metadata": {
      "needs_background": "light"
     },
     "output_type": "display_data"
    }
   ],
   "source": [
    "df_lat_long = pd.DataFrame(\n",
    "    StandardScaler().fit_transform(df_train[[\"lat\", \"long\"]]), \n",
    "    columns=[\"lat\", \"long\"]\n",
    ")\n",
    "fig, axes = plt.subplots(figsize=(10, 4), ncols=2)\n",
    "sns.histplot(data=df_lat_long, x='lat', kde=True, ax=axes[0]);\n",
    "sns.histplot(data=df_lat_long, x='long', kde=True, ax=axes[1]);\n",
    "# fig, axes = plt.subplots(figsize=(10, 4), ncols=2)\n",
    "# df_train['grade'].hist(bins=30, ax=axes[0]);\n",
    "# df_train['grouped_grade'].hist(bins=30, ax=axes[1]);\n",
    "axes[0].set_title(\"Latitude\")\n",
    "axes[1].set_title(\"Longitude\")\n",
    "plt.show()"
   ]
  },
  {
   "cell_type": "code",
   "execution_count": 162,
   "id": "344f9c09",
   "metadata": {
    "scrolled": false
   },
   "outputs": [
    {
     "data": {
      "text/plain": [
       "1    16400\n",
       "2      437\n",
       "3       22\n",
       "4        4\n",
       "dtype: int64"
      ]
     },
     "execution_count": 162,
     "metadata": {},
     "output_type": "execute_result"
    }
   ],
   "source": [
    "df_train.groupby([\"lat\", \"long\"]).size().value_counts()"
   ]
  },
  {
   "cell_type": "code",
   "execution_count": 163,
   "id": "f345f8fb",
   "metadata": {},
   "outputs": [
    {
     "data": {
      "text/html": [
       "<div>\n",
       "<style scoped>\n",
       "    .dataframe tbody tr th:only-of-type {\n",
       "        vertical-align: middle;\n",
       "    }\n",
       "\n",
       "    .dataframe tbody tr th {\n",
       "        vertical-align: top;\n",
       "    }\n",
       "\n",
       "    .dataframe thead th {\n",
       "        text-align: right;\n",
       "    }\n",
       "</style>\n",
       "<table border=\"1\" class=\"dataframe\">\n",
       "  <thead>\n",
       "    <tr style=\"text-align: right;\">\n",
       "      <th></th>\n",
       "      <th>lat</th>\n",
       "      <th>long</th>\n",
       "      <th>log_price</th>\n",
       "    </tr>\n",
       "  </thead>\n",
       "  <tbody>\n",
       "    <tr>\n",
       "      <th>lat</th>\n",
       "      <td>1.00000</td>\n",
       "      <td>-0.132940</td>\n",
       "      <td>0.447800</td>\n",
       "    </tr>\n",
       "    <tr>\n",
       "      <th>long</th>\n",
       "      <td>-0.13294</td>\n",
       "      <td>1.000000</td>\n",
       "      <td>0.055715</td>\n",
       "    </tr>\n",
       "    <tr>\n",
       "      <th>log_price</th>\n",
       "      <td>0.44780</td>\n",
       "      <td>0.055715</td>\n",
       "      <td>1.000000</td>\n",
       "    </tr>\n",
       "  </tbody>\n",
       "</table>\n",
       "</div>"
      ],
      "text/plain": [
       "               lat      long  log_price\n",
       "lat        1.00000 -0.132940   0.447800\n",
       "long      -0.13294  1.000000   0.055715\n",
       "log_price  0.44780  0.055715   1.000000"
      ]
     },
     "execution_count": 163,
     "metadata": {},
     "output_type": "execute_result"
    }
   ],
   "source": [
    "df_train[[\"lat\", \"long\", \"log_price\"]].corr()"
   ]
  },
  {
   "cell_type": "code",
   "execution_count": null,
   "id": "c2b477d0",
   "metadata": {},
   "outputs": [],
   "source": []
  }
 ],
 "metadata": {
  "kernelspec": {
   "display_name": "Python 3 (ipykernel)",
   "language": "python",
   "name": "python3"
  },
  "language_info": {
   "codemirror_mode": {
    "name": "ipython",
    "version": 3
   },
   "file_extension": ".py",
   "mimetype": "text/x-python",
   "name": "python",
   "nbconvert_exporter": "python",
   "pygments_lexer": "ipython3",
   "version": "3.9.12"
  },
  "toc": {
   "base_numbering": 1,
   "nav_menu": {},
   "number_sections": true,
   "sideBar": true,
   "skip_h1_title": false,
   "title_cell": "Table of Contents",
   "title_sidebar": "Contents",
   "toc_cell": false,
   "toc_position": {
    "height": "calc(100% - 180px)",
    "left": "10px",
    "top": "150px",
    "width": "307.2px"
   },
   "toc_section_display": true,
   "toc_window_display": true
  }
 },
 "nbformat": 4,
 "nbformat_minor": 5
}
